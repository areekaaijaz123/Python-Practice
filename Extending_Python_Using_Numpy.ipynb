{
  "nbformat": 4,
  "nbformat_minor": 0,
  "metadata": {
    "colab": {
      "name": "Extending Python Using Numpy.ipynb",
      "provenance": []
    },
    "kernelspec": {
      "name": "python3",
      "display_name": "Python 3"
    }
  },
  "cells": [
    {
      "cell_type": "code",
      "metadata": {
        "id": "Hedz6X21FfWI"
      },
      "source": [
        "import numpy as np\r\n",
        "from numpy import random"
      ],
      "execution_count": 1,
      "outputs": []
    },
    {
      "cell_type": "markdown",
      "metadata": {
        "id": "3xVCNRgbFsMV"
      },
      "source": [
        "# Creating Numpy Arrays"
      ]
    },
    {
      "cell_type": "code",
      "metadata": {
        "colab": {
          "base_uri": "https://localhost:8080/"
        },
        "id": "c6a9fOthFodP",
        "outputId": "f4e55356-4682-4d8c-8c01-0afc7bdf2bca"
      },
      "source": [
        "# Creates a range from 0 to 9\r\n",
        "a1 = np.arange(10)\r\n",
        "print(a1)\r\n",
        "print(a1.shape)"
      ],
      "execution_count": 2,
      "outputs": [
        {
          "output_type": "stream",
          "text": [
            "[0 1 2 3 4 5 6 7 8 9]\n",
            "(10,)\n"
          ],
          "name": "stdout"
        }
      ]
    },
    {
      "cell_type": "code",
      "metadata": {
        "colab": {
          "base_uri": "https://localhost:8080/"
        },
        "id": "9fEmNh3cF0nk",
        "outputId": "9c6ba96a-c7bd-41a5-e585-faf66676aad7"
      },
      "source": [
        "# Create a range from 12 to 42, step 2\r\n",
        "a2 = np.arange(12, 42, 2)\r\n",
        "print(a2)"
      ],
      "execution_count": 3,
      "outputs": [
        {
          "output_type": "stream",
          "text": [
            "[12 14 16 18 20 22 24 26 28 30 32 34 36 38 40]\n"
          ],
          "name": "stdout"
        }
      ]
    },
    {
      "cell_type": "code",
      "metadata": {
        "colab": {
          "base_uri": "https://localhost:8080/"
        },
        "id": "MLppiHMcF7UV",
        "outputId": "dc266038-d0fe-4fa5-abbb-276576accad2"
      },
      "source": [
        "# Matrix intialized with 0\r\n",
        "a3 = np.zeros(5)\r\n",
        "print(a3)\r\n",
        "print(a3.shape)"
      ],
      "execution_count": 4,
      "outputs": [
        {
          "output_type": "stream",
          "text": [
            "[0. 0. 0. 0. 0.]\n",
            "(5,)\n"
          ],
          "name": "stdout"
        }
      ]
    },
    {
      "cell_type": "code",
      "metadata": {
        "colab": {
          "base_uri": "https://localhost:8080/"
        },
        "id": "DjBP0LmZGBX6",
        "outputId": "0b88b5b9-210e-45dc-d2b3-561ef3fafb76"
      },
      "source": [
        "# 2D - matrix with 0\r\n",
        "a4 = np.zeros((2, 3))\r\n",
        "print(a4)\r\n",
        "print(a4.shape)"
      ],
      "execution_count": 5,
      "outputs": [
        {
          "output_type": "stream",
          "text": [
            "[[0. 0. 0.]\n",
            " [0. 0. 0.]]\n",
            "(2, 3)\n"
          ],
          "name": "stdout"
        }
      ]
    },
    {
      "cell_type": "code",
      "metadata": {
        "colab": {
          "base_uri": "https://localhost:8080/"
        },
        "id": "4Rc8y0waGKdl",
        "outputId": "60ebcf44-0c47-46d3-bcb1-f1c1a391ff83"
      },
      "source": [
        "# To initialize matrix with any number\r\n",
        "a5 = np.full((2, 3), 8)\r\n",
        "print(a5)\r\n",
        "print(a5.shape)"
      ],
      "execution_count": 6,
      "outputs": [
        {
          "output_type": "stream",
          "text": [
            "[[8 8 8]\n",
            " [8 8 8]]\n",
            "(2, 3)\n"
          ],
          "name": "stdout"
        }
      ]
    },
    {
      "cell_type": "code",
      "metadata": {
        "colab": {
          "base_uri": "https://localhost:8080/"
        },
        "id": "ExeZeGcxGfjg",
        "outputId": "5f198bca-7f4b-4fd8-a9ba-5b98793f23cc"
      },
      "source": [
        "# To create identity matrix\r\n",
        "a6 = np.eye(4)\r\n",
        "print(a6)\r\n",
        "print(a6.shape)"
      ],
      "execution_count": 7,
      "outputs": [
        {
          "output_type": "stream",
          "text": [
            "[[1. 0. 0. 0.]\n",
            " [0. 1. 0. 0.]\n",
            " [0. 0. 1. 0.]\n",
            " [0. 0. 0. 1.]]\n",
            "(4, 4)\n"
          ],
          "name": "stdout"
        }
      ]
    },
    {
      "cell_type": "code",
      "metadata": {
        "colab": {
          "base_uri": "https://localhost:8080/"
        },
        "id": "9YvThRrlGltQ",
        "outputId": "18e724b0-56d4-4537-efcd-a3d192feed6a"
      },
      "source": [
        "# Array of random values with 2 rows & 4 columns\r\n",
        "a7 = np.random.random((2, 4))\r\n",
        "print(a7)\r\n",
        "print(a7.shape)"
      ],
      "execution_count": 8,
      "outputs": [
        {
          "output_type": "stream",
          "text": [
            "[[0.68666595 0.38676464 0.29618395 0.73870286]\n",
            " [0.46888544 0.50491041 0.85839242 0.51611342]]\n",
            "(2, 4)\n"
          ],
          "name": "stdout"
        }
      ]
    },
    {
      "cell_type": "code",
      "metadata": {
        "colab": {
          "base_uri": "https://localhost:8080/"
        },
        "id": "A4x2uZ60Hnh2",
        "outputId": "c65d2294-dc29-4e68-c452-ea58cae60136"
      },
      "source": [
        "# Creating numpy array from python list\r\n",
        "list1 = [1, 2, 3, 4, 5]\r\n",
        "a8 = np.array(list1)\r\n",
        "print(a8)"
      ],
      "execution_count": 9,
      "outputs": [
        {
          "output_type": "stream",
          "text": [
            "[1 2 3 4 5]\n"
          ],
          "name": "stdout"
        }
      ]
    },
    {
      "cell_type": "markdown",
      "metadata": {
        "id": "y9ym0W8RIM64"
      },
      "source": [
        "# Array Indexing"
      ]
    },
    {
      "cell_type": "code",
      "metadata": {
        "colab": {
          "base_uri": "https://localhost:8080/"
        },
        "id": "1EjnqH2IIFPO",
        "outputId": "d5c46190-eb59-446e-9063-0f4659724b05"
      },
      "source": [
        "list2 = [6, 7, 8, 9, 10]\r\n",
        "a9 = np.array([list1, list2])\r\n",
        "print(a9)\r\n",
        "print(a9.shape)\r\n",
        "print(a9[0, 0])\r\n",
        "print(a9[1, 3])"
      ],
      "execution_count": 10,
      "outputs": [
        {
          "output_type": "stream",
          "text": [
            "[[ 1  2  3  4  5]\n",
            " [ 6  7  8  9 10]]\n",
            "(2, 5)\n",
            "1\n",
            "9\n"
          ],
          "name": "stdout"
        }
      ]
    },
    {
      "cell_type": "markdown",
      "metadata": {
        "id": "26B6lBxwI-fB"
      },
      "source": [
        "# Boolean Indexing"
      ]
    },
    {
      "cell_type": "code",
      "metadata": {
        "colab": {
          "base_uri": "https://localhost:8080/"
        },
        "id": "IVL3LX9-IyB0",
        "outputId": "dbd9b4dc-21e4-4263-9efe-e18d5d0e2b3c"
      },
      "source": [
        "print(a9 > 2)"
      ],
      "execution_count": 11,
      "outputs": [
        {
          "output_type": "stream",
          "text": [
            "[[False False  True  True  True]\n",
            " [ True  True  True  True  True]]\n"
          ],
          "name": "stdout"
        }
      ]
    },
    {
      "cell_type": "code",
      "metadata": {
        "colab": {
          "base_uri": "https://localhost:8080/"
        },
        "id": "s3UbF98tJCgI",
        "outputId": "e5d33be4-a28f-49e8-f2fa-a46ff5c75588"
      },
      "source": [
        "print(a9[a9 > 2])"
      ],
      "execution_count": 12,
      "outputs": [
        {
          "output_type": "stream",
          "text": [
            "[ 3  4  5  6  7  8  9 10]\n"
          ],
          "name": "stdout"
        }
      ]
    },
    {
      "cell_type": "code",
      "metadata": {
        "colab": {
          "base_uri": "https://localhost:8080/"
        },
        "id": "DFM6AYxzJK3u",
        "outputId": "ea114c8a-cb95-4cf2-a493-1f68031e31be"
      },
      "source": [
        "a10 = np.arange(20)\r\n",
        "print(a10)"
      ],
      "execution_count": 13,
      "outputs": [
        {
          "output_type": "stream",
          "text": [
            "[ 0  1  2  3  4  5  6  7  8  9 10 11 12 13 14 15 16 17 18 19]\n"
          ],
          "name": "stdout"
        }
      ]
    },
    {
      "cell_type": "code",
      "metadata": {
        "colab": {
          "base_uri": "https://localhost:8080/"
        },
        "id": "MGJpS7NqJdkg",
        "outputId": "fccec253-7168-4927-e5ff-8e839d5ddb40"
      },
      "source": [
        "odd_num = a10[a10 % 2 == 1]\r\n",
        "print(odd_num)"
      ],
      "execution_count": 14,
      "outputs": [
        {
          "output_type": "stream",
          "text": [
            "[ 1  3  5  7  9 11 13 15 17 19]\n"
          ],
          "name": "stdout"
        }
      ]
    },
    {
      "cell_type": "markdown",
      "metadata": {
        "id": "b1CT9oXCJsIR"
      },
      "source": [
        "# Slicing Array"
      ]
    },
    {
      "cell_type": "code",
      "metadata": {
        "colab": {
          "base_uri": "https://localhost:8080/"
        },
        "id": "uipEgmv5JlLn",
        "outputId": "d8ae1987-e628-40a4-d44b-317a31f6b41a"
      },
      "source": [
        "a = np.array([[1, 2, 3, 4, 5],\r\n",
        "             [4, 15, 16, 7, 8],\r\n",
        "             [9, 18, 17, 6, 5]])\r\n",
        "print(a)"
      ],
      "execution_count": 15,
      "outputs": [
        {
          "output_type": "stream",
          "text": [
            "[[ 1  2  3  4  5]\n",
            " [ 4 15 16  7  8]\n",
            " [ 9 18 17  6  5]]\n"
          ],
          "name": "stdout"
        }
      ]
    },
    {
      "cell_type": "code",
      "metadata": {
        "colab": {
          "base_uri": "https://localhost:8080/"
        },
        "id": "QUj1IAlpKB6h",
        "outputId": "3240d51b-3ea2-4502-9330-f24b4dd985bf"
      },
      "source": [
        "# row 1 to 3\r\n",
        "b = a[1:3, :3]\r\n",
        "print(b)  "
      ],
      "execution_count": 16,
      "outputs": [
        {
          "output_type": "stream",
          "text": [
            "[[ 4 15 16]\n",
            " [ 9 18 17]]\n"
          ],
          "name": "stdout"
        }
      ]
    },
    {
      "cell_type": "code",
      "metadata": {
        "colab": {
          "base_uri": "https://localhost:8080/"
        },
        "id": "PH8P7sRcKRkK",
        "outputId": "4990f18b-cb27-42f1-8d71-4482aca7c0c3"
      },
      "source": [
        "c = a[-2: , -2:]\r\n",
        "print(c)"
      ],
      "execution_count": 17,
      "outputs": [
        {
          "output_type": "stream",
          "text": [
            "[[7 8]\n",
            " [6 5]]\n"
          ],
          "name": "stdout"
        }
      ]
    },
    {
      "cell_type": "markdown",
      "metadata": {
        "id": "owWt2LB4MsfR"
      },
      "source": [
        "# Reshaping Arrays"
      ]
    },
    {
      "cell_type": "code",
      "metadata": {
        "id": "L6fS5k1VKeny",
        "colab": {
          "base_uri": "https://localhost:8080/"
        },
        "outputId": "a66f7106-497d-40cb-96ba-736c2d14f16c"
      },
      "source": [
        "# Rank 1 array b1\r\n",
        "b1 = np.array([9, 8, 7, 6, 5])\r\n",
        "b1"
      ],
      "execution_count": 18,
      "outputs": [
        {
          "output_type": "execute_result",
          "data": {
            "text/plain": [
              "array([9, 8, 7, 6, 5])"
            ]
          },
          "metadata": {
            "tags": []
          },
          "execution_count": 18
        }
      ]
    },
    {
      "cell_type": "code",
      "metadata": {
        "colab": {
          "base_uri": "https://localhost:8080/"
        },
        "id": "3TNf2gBRyr5p",
        "outputId": "2ca3d847-878a-4dce-accb-9c9e31c0170a"
      },
      "source": [
        "# Reshaping rank 1 array b1 to rank 2 array b2\r\n",
        "b2 = b1.reshape(1, -1)\r\n",
        "b2"
      ],
      "execution_count": 19,
      "outputs": [
        {
          "output_type": "execute_result",
          "data": {
            "text/plain": [
              "array([[9, 8, 7, 6, 5]])"
            ]
          },
          "metadata": {
            "tags": []
          },
          "execution_count": 19
        }
      ]
    },
    {
      "cell_type": "code",
      "metadata": {
        "colab": {
          "base_uri": "https://localhost:8080/"
        },
        "id": "91iy4Oz_yuZD",
        "outputId": "8747b86a-1856-4927-cb5b-8ca4d920c36e"
      },
      "source": [
        "b3 = np.array([1, 2, 3, 4, 5, 6, 7, 8, 9, 10, 11, 12])\r\n",
        "b4 = b3.reshape(3, 4)\r\n",
        "b4"
      ],
      "execution_count": 20,
      "outputs": [
        {
          "output_type": "execute_result",
          "data": {
            "text/plain": [
              "array([[ 1,  2,  3,  4],\n",
              "       [ 5,  6,  7,  8],\n",
              "       [ 9, 10, 11, 12]])"
            ]
          },
          "metadata": {
            "tags": []
          },
          "execution_count": 20
        }
      ]
    },
    {
      "cell_type": "code",
      "metadata": {
        "colab": {
          "base_uri": "https://localhost:8080/"
        },
        "id": "b2RlkvQ70LG3",
        "outputId": "9b9278c3-e3fc-4af6-b8f2-9bd657637b5d"
      },
      "source": [
        "b5 = b3.reshape(2, 3, 2)\r\n",
        "b5"
      ],
      "execution_count": 21,
      "outputs": [
        {
          "output_type": "execute_result",
          "data": {
            "text/plain": [
              "array([[[ 1,  2],\n",
              "        [ 3,  4],\n",
              "        [ 5,  6]],\n",
              "\n",
              "       [[ 7,  8],\n",
              "        [ 9, 10],\n",
              "        [11, 12]]])"
            ]
          },
          "metadata": {
            "tags": []
          },
          "execution_count": 21
        }
      ]
    },
    {
      "cell_type": "code",
      "metadata": {
        "colab": {
          "base_uri": "https://localhost:8080/"
        },
        "id": "9sbLenjW0cnd",
        "outputId": "6d700883-a656-40af-87ef-01eae535ba51"
      },
      "source": [
        "b6 = b5.reshape(-1, )\r\n",
        "b6"
      ],
      "execution_count": 22,
      "outputs": [
        {
          "output_type": "execute_result",
          "data": {
            "text/plain": [
              "array([ 1,  2,  3,  4,  5,  6,  7,  8,  9, 10, 11, 12])"
            ]
          },
          "metadata": {
            "tags": []
          },
          "execution_count": 22
        }
      ]
    },
    {
      "cell_type": "code",
      "metadata": {
        "colab": {
          "base_uri": "https://localhost:8080/"
        },
        "id": "wsj_bSIp0v3B",
        "outputId": "46df8050-2312-4b33-f2b6-69034b593be5"
      },
      "source": [
        "b7 = b5.flatten('F')\r\n",
        "b7"
      ],
      "execution_count": 23,
      "outputs": [
        {
          "output_type": "execute_result",
          "data": {
            "text/plain": [
              "array([ 1,  7,  3,  9,  5, 11,  2,  8,  4, 10,  6, 12])"
            ]
          },
          "metadata": {
            "tags": []
          },
          "execution_count": 23
        }
      ]
    },
    {
      "cell_type": "markdown",
      "metadata": {
        "id": "d2DIIz0T19y5"
      },
      "source": [
        "# Array Math"
      ]
    },
    {
      "cell_type": "code",
      "metadata": {
        "id": "fYWLnCEs1RJi"
      },
      "source": [
        "x1 = np.array([[1, 2, 3], [4, 5, 6]])\r\n",
        "y1 = np.array([[7, 8, 9], [2, 3, 4]])"
      ],
      "execution_count": 24,
      "outputs": []
    },
    {
      "cell_type": "code",
      "metadata": {
        "colab": {
          "base_uri": "https://localhost:8080/"
        },
        "id": "DS-aAheq2Lnq",
        "outputId": "ca94386a-1206-4504-8e2e-7d74ade8f93b"
      },
      "source": [
        "x1 + y1"
      ],
      "execution_count": 25,
      "outputs": [
        {
          "output_type": "execute_result",
          "data": {
            "text/plain": [
              "array([[ 8, 10, 12],\n",
              "       [ 6,  8, 10]])"
            ]
          },
          "metadata": {
            "tags": []
          },
          "execution_count": 25
        }
      ]
    },
    {
      "cell_type": "code",
      "metadata": {
        "colab": {
          "base_uri": "https://localhost:8080/"
        },
        "id": "U3CKinJk24EE",
        "outputId": "2570e603-a172-42c9-c94e-18d2d4468603"
      },
      "source": [
        "np.add(x1, y1)"
      ],
      "execution_count": 26,
      "outputs": [
        {
          "output_type": "execute_result",
          "data": {
            "text/plain": [
              "array([[ 8, 10, 12],\n",
              "       [ 6,  8, 10]])"
            ]
          },
          "metadata": {
            "tags": []
          },
          "execution_count": 26
        }
      ]
    },
    {
      "cell_type": "code",
      "metadata": {
        "colab": {
          "base_uri": "https://localhost:8080/"
        },
        "id": "Y7hz1-j14DZ-",
        "outputId": "c402e7a6-0d6e-4aff-d985-02b2ca27486d"
      },
      "source": [
        "x1 - y1"
      ],
      "execution_count": 27,
      "outputs": [
        {
          "output_type": "execute_result",
          "data": {
            "text/plain": [
              "array([[-6, -6, -6],\n",
              "       [ 2,  2,  2]])"
            ]
          },
          "metadata": {
            "tags": []
          },
          "execution_count": 27
        }
      ]
    },
    {
      "cell_type": "code",
      "metadata": {
        "colab": {
          "base_uri": "https://localhost:8080/"
        },
        "id": "6jyycilk4HfP",
        "outputId": "daa9256d-11fb-43e4-ca78-39f4bc1db220"
      },
      "source": [
        "x1 * y1"
      ],
      "execution_count": 28,
      "outputs": [
        {
          "output_type": "execute_result",
          "data": {
            "text/plain": [
              "array([[ 7, 16, 27],\n",
              "       [ 8, 15, 24]])"
            ]
          },
          "metadata": {
            "tags": []
          },
          "execution_count": 28
        }
      ]
    },
    {
      "cell_type": "markdown",
      "metadata": {
        "id": "G7tRKWTm4QhF"
      },
      "source": [
        "# Dot Product"
      ]
    },
    {
      "cell_type": "code",
      "metadata": {
        "id": "OxcNuO8E4J1V"
      },
      "source": [
        "x2 = np.array([2, 3])\r\n",
        "y2 = np.array([4, 2])"
      ],
      "execution_count": 29,
      "outputs": []
    },
    {
      "cell_type": "code",
      "metadata": {
        "colab": {
          "base_uri": "https://localhost:8080/"
        },
        "id": "3Bse4IpP4ZT8",
        "outputId": "bac20d9d-a418-436c-9073-9a405ecf2423"
      },
      "source": [
        "np.dot(x2, y2)     # 2*4 + 3*2"
      ],
      "execution_count": 30,
      "outputs": [
        {
          "output_type": "execute_result",
          "data": {
            "text/plain": [
              "14"
            ]
          },
          "metadata": {
            "tags": []
          },
          "execution_count": 30
        }
      ]
    },
    {
      "cell_type": "code",
      "metadata": {
        "id": "SMO2F5qK4a0x"
      },
      "source": [
        "x3 = np.array([[1, 2, 3], [4, 5, 6]])\r\n",
        "y3 = np.array([[7, 8], [9, 10], [11, 12]])"
      ],
      "execution_count": 31,
      "outputs": []
    },
    {
      "cell_type": "code",
      "metadata": {
        "colab": {
          "base_uri": "https://localhost:8080/"
        },
        "id": "rnPFUn8S41zH",
        "outputId": "78101b2b-ae85-47e9-bbd6-965057ac5384"
      },
      "source": [
        "x3"
      ],
      "execution_count": 32,
      "outputs": [
        {
          "output_type": "execute_result",
          "data": {
            "text/plain": [
              "array([[1, 2, 3],\n",
              "       [4, 5, 6]])"
            ]
          },
          "metadata": {
            "tags": []
          },
          "execution_count": 32
        }
      ]
    },
    {
      "cell_type": "code",
      "metadata": {
        "colab": {
          "base_uri": "https://localhost:8080/"
        },
        "id": "EoekWOLV43XV",
        "outputId": "270182bc-d661-47f2-8af6-aa5a01bdef97"
      },
      "source": [
        "y3"
      ],
      "execution_count": 33,
      "outputs": [
        {
          "output_type": "execute_result",
          "data": {
            "text/plain": [
              "array([[ 7,  8],\n",
              "       [ 9, 10],\n",
              "       [11, 12]])"
            ]
          },
          "metadata": {
            "tags": []
          },
          "execution_count": 33
        }
      ]
    },
    {
      "cell_type": "code",
      "metadata": {
        "colab": {
          "base_uri": "https://localhost:8080/"
        },
        "id": "VvcZ_Ba24uUa",
        "outputId": "bc053584-194a-45ad-d715-3d666343c99a"
      },
      "source": [
        "np.dot(x3, y3)    # (1*7 + 2*9 + 3*11), (4*7 + 5*9 + 6*11) , (1*8 + 2*10 + 3*12), (4*8 + 5*10 + 6*12)"
      ],
      "execution_count": 34,
      "outputs": [
        {
          "output_type": "execute_result",
          "data": {
            "text/plain": [
              "array([[ 58,  64],\n",
              "       [139, 154]])"
            ]
          },
          "metadata": {
            "tags": []
          },
          "execution_count": 34
        }
      ]
    },
    {
      "cell_type": "markdown",
      "metadata": {
        "id": "xb7aTyDe7yDf"
      },
      "source": [
        "# Numpy Matrix"
      ]
    },
    {
      "cell_type": "code",
      "metadata": {
        "colab": {
          "base_uri": "https://localhost:8080/"
        },
        "id": "-EyV1JXa5H5z",
        "outputId": "870b8042-34ab-4b69-8361-d04e8443ba24"
      },
      "source": [
        "mx1 = np.array([[1, 2], [4, 5]])\r\n",
        "mx2 = np.array([[7, 8], [2, 3]])\r\n",
        "\r\n",
        "mx1 * mx2"
      ],
      "execution_count": 35,
      "outputs": [
        {
          "output_type": "execute_result",
          "data": {
            "text/plain": [
              "array([[ 7, 16],\n",
              "       [ 8, 15]])"
            ]
          },
          "metadata": {
            "tags": []
          },
          "execution_count": 35
        }
      ]
    },
    {
      "cell_type": "code",
      "metadata": {
        "colab": {
          "base_uri": "https://localhost:8080/"
        },
        "id": "1R9lLm_d-cY7",
        "outputId": "067a0c33-bc75-4c3f-f69a-f36aa5134e2a"
      },
      "source": [
        "my1 = np.matrix([[1, 2], [4, 5]])\r\n",
        "my2 = np.matrix([[7, 8], [2, 3]])\r\n",
        "\r\n",
        "# dot product\r\n",
        "my1 * my2           "
      ],
      "execution_count": 36,
      "outputs": [
        {
          "output_type": "execute_result",
          "data": {
            "text/plain": [
              "matrix([[11, 14],\n",
              "        [38, 47]])"
            ]
          },
          "metadata": {
            "tags": []
          },
          "execution_count": 36
        }
      ]
    },
    {
      "cell_type": "markdown",
      "metadata": {
        "id": "7frp197u-_9G"
      },
      "source": [
        "# Cumulative Sum"
      ]
    },
    {
      "cell_type": "code",
      "metadata": {
        "colab": {
          "base_uri": "https://localhost:8080/"
        },
        "id": "JAITqcQU-wZX",
        "outputId": "89dc1145-5a81-4426-9668-882a1d4c6e94"
      },
      "source": [
        "x = np.array([[1, 2, 3], [4, 5, 6], [7, 8, 9]])\r\n",
        "x"
      ],
      "execution_count": 37,
      "outputs": [
        {
          "output_type": "execute_result",
          "data": {
            "text/plain": [
              "array([[1, 2, 3],\n",
              "       [4, 5, 6],\n",
              "       [7, 8, 9]])"
            ]
          },
          "metadata": {
            "tags": []
          },
          "execution_count": 37
        }
      ]
    },
    {
      "cell_type": "code",
      "metadata": {
        "colab": {
          "base_uri": "https://localhost:8080/"
        },
        "id": "8cGatIan_mTb",
        "outputId": "73c8d76e-1813-40d2-f649-59681f30a2f4"
      },
      "source": [
        "x.cumsum()"
      ],
      "execution_count": 38,
      "outputs": [
        {
          "output_type": "execute_result",
          "data": {
            "text/plain": [
              "array([ 1,  3,  6, 10, 15, 21, 28, 36, 45])"
            ]
          },
          "metadata": {
            "tags": []
          },
          "execution_count": 38
        }
      ]
    },
    {
      "cell_type": "code",
      "metadata": {
        "colab": {
          "base_uri": "https://localhost:8080/"
        },
        "id": "6xOCmQMp_m5D",
        "outputId": "84648c59-9413-40c2-80f3-7f14ba39ec6b"
      },
      "source": [
        "x.cumsum(axis = 0)"
      ],
      "execution_count": 39,
      "outputs": [
        {
          "output_type": "execute_result",
          "data": {
            "text/plain": [
              "array([[ 1,  2,  3],\n",
              "       [ 5,  7,  9],\n",
              "       [12, 15, 18]])"
            ]
          },
          "metadata": {
            "tags": []
          },
          "execution_count": 39
        }
      ]
    },
    {
      "cell_type": "code",
      "metadata": {
        "colab": {
          "base_uri": "https://localhost:8080/"
        },
        "id": "XbL9nZ4I_o7N",
        "outputId": "362d74de-128c-46c2-9964-9eb2c0228253"
      },
      "source": [
        "x.cumsum(axis = 1)"
      ],
      "execution_count": 40,
      "outputs": [
        {
          "output_type": "execute_result",
          "data": {
            "text/plain": [
              "array([[ 1,  3,  6],\n",
              "       [ 4,  9, 15],\n",
              "       [ 7, 15, 24]])"
            ]
          },
          "metadata": {
            "tags": []
          },
          "execution_count": 40
        }
      ]
    },
    {
      "cell_type": "markdown",
      "metadata": {
        "id": "F8vhQCDOABkT"
      },
      "source": [
        "# Numpy Sorting"
      ]
    },
    {
      "cell_type": "code",
      "metadata": {
        "id": "KbOzjOIB_z2N"
      },
      "source": [
        "age1 = np.array([34, 16, 12, 54, 78, 20])"
      ],
      "execution_count": 41,
      "outputs": []
    },
    {
      "cell_type": "code",
      "metadata": {
        "colab": {
          "base_uri": "https://localhost:8080/"
        },
        "id": "Od1BZ81vAXCk",
        "outputId": "05e305c7-3702-4ef8-dbf3-ee2d90a049df"
      },
      "source": [
        "# Outplace sorting\r\n",
        "age = np.sort(age1)\r\n",
        "print(\"Actual Array: \", age1)\r\n",
        "print(\"Sorted Array: \", age)"
      ],
      "execution_count": 42,
      "outputs": [
        {
          "output_type": "stream",
          "text": [
            "Actual Array:  [34 16 12 54 78 20]\n",
            "Sorted Array:  [12 16 20 34 54 78]\n"
          ],
          "name": "stdout"
        }
      ]
    },
    {
      "cell_type": "code",
      "metadata": {
        "colab": {
          "base_uri": "https://localhost:8080/"
        },
        "id": "oRPcZ4wpAoDz",
        "outputId": "1a9eba07-b541-477b-abe1-548efb7c9e6f"
      },
      "source": [
        "# Inplace sorting\r\n",
        "age1.sort()\r\n",
        "print(age1)"
      ],
      "execution_count": 43,
      "outputs": [
        {
          "output_type": "stream",
          "text": [
            "[12 16 20 34 54 78]\n"
          ],
          "name": "stdout"
        }
      ]
    },
    {
      "cell_type": "code",
      "metadata": {
        "colab": {
          "base_uri": "https://localhost:8080/"
        },
        "id": "lvnAikXEAuqz",
        "outputId": "45825ec4-d137-4fa2-f028-6032cd4fe4b6"
      },
      "source": [
        "age2 = np.array([34, 16, 12, 54, 78, 20])\r\n",
        "\r\n",
        "# Ranking of array\r\n",
        "age2.argsort()"
      ],
      "execution_count": 44,
      "outputs": [
        {
          "output_type": "execute_result",
          "data": {
            "text/plain": [
              "array([2, 1, 5, 0, 3, 4])"
            ]
          },
          "metadata": {
            "tags": []
          },
          "execution_count": 44
        }
      ]
    },
    {
      "cell_type": "markdown",
      "metadata": {
        "id": "Bwxx7_qMDFE1"
      },
      "source": [
        "# Join Array"
      ]
    },
    {
      "cell_type": "code",
      "metadata": {
        "colab": {
          "base_uri": "https://localhost:8080/"
        },
        "id": "rxy9h5mLBKNc",
        "outputId": "50ad6809-6ae2-4e74-cac7-805350801b22"
      },
      "source": [
        "arr1 = np.array([1, 2, 3])\r\n",
        "arr2 = np.array([4, 5, 6])\r\n",
        "np.concatenate((arr1, arr2))"
      ],
      "execution_count": 45,
      "outputs": [
        {
          "output_type": "execute_result",
          "data": {
            "text/plain": [
              "array([1, 2, 3, 4, 5, 6])"
            ]
          },
          "metadata": {
            "tags": []
          },
          "execution_count": 45
        }
      ]
    },
    {
      "cell_type": "code",
      "metadata": {
        "id": "OpToPeB0DSCI"
      },
      "source": [
        "arr1 = np.array([[1, 2], [3, 4]])\r\n",
        "arr2 = np.array([[5, 6], [7, 8]])"
      ],
      "execution_count": 46,
      "outputs": []
    },
    {
      "cell_type": "code",
      "metadata": {
        "colab": {
          "base_uri": "https://localhost:8080/"
        },
        "id": "F4QTwQUMD0C7",
        "outputId": "b2d70c7c-d1ff-4d96-c8c5-28edf0366ae2"
      },
      "source": [
        "np.concatenate((arr1, arr2), axis=1)"
      ],
      "execution_count": 47,
      "outputs": [
        {
          "output_type": "execute_result",
          "data": {
            "text/plain": [
              "array([[1, 2, 5, 6],\n",
              "       [3, 4, 7, 8]])"
            ]
          },
          "metadata": {
            "tags": []
          },
          "execution_count": 47
        }
      ]
    },
    {
      "cell_type": "code",
      "metadata": {
        "colab": {
          "base_uri": "https://localhost:8080/"
        },
        "id": "8L4eTgDtDUfV",
        "outputId": "b064537e-146b-4a3b-d63a-6515c3ae43cf"
      },
      "source": [
        "np.concatenate((arr1, arr2), axis=0)"
      ],
      "execution_count": 48,
      "outputs": [
        {
          "output_type": "execute_result",
          "data": {
            "text/plain": [
              "array([[1, 2],\n",
              "       [3, 4],\n",
              "       [5, 6],\n",
              "       [7, 8]])"
            ]
          },
          "metadata": {
            "tags": []
          },
          "execution_count": 48
        }
      ]
    },
    {
      "cell_type": "code",
      "metadata": {
        "id": "vLvM0IhEDr2R"
      },
      "source": [
        "arr1 = np.array([1, 2, 3])\r\n",
        "arr2 = np.array([4, 5, 6])"
      ],
      "execution_count": 49,
      "outputs": []
    },
    {
      "cell_type": "code",
      "metadata": {
        "colab": {
          "base_uri": "https://localhost:8080/"
        },
        "id": "idhaa3rRESd9",
        "outputId": "c0af4894-25dd-4e8b-afbf-112407c4e97d"
      },
      "source": [
        "np.stack((arr1, arr2), axis=1)"
      ],
      "execution_count": 50,
      "outputs": [
        {
          "output_type": "execute_result",
          "data": {
            "text/plain": [
              "array([[1, 4],\n",
              "       [2, 5],\n",
              "       [3, 6]])"
            ]
          },
          "metadata": {
            "tags": []
          },
          "execution_count": 50
        }
      ]
    },
    {
      "cell_type": "code",
      "metadata": {
        "colab": {
          "base_uri": "https://localhost:8080/"
        },
        "id": "JoSFDEyUEV_V",
        "outputId": "e1f5e66c-2920-43db-9fd4-ef497c38ee13"
      },
      "source": [
        "np.stack((arr1, arr2))"
      ],
      "execution_count": 51,
      "outputs": [
        {
          "output_type": "execute_result",
          "data": {
            "text/plain": [
              "array([[1, 2, 3],\n",
              "       [4, 5, 6]])"
            ]
          },
          "metadata": {
            "tags": []
          },
          "execution_count": 51
        }
      ]
    },
    {
      "cell_type": "code",
      "metadata": {
        "colab": {
          "base_uri": "https://localhost:8080/"
        },
        "id": "Qj50YX8EEaEH",
        "outputId": "fed4cb58-7ec6-4f16-9134-d85fc5bcd26d"
      },
      "source": [
        "np.hstack((arr1, arr2))"
      ],
      "execution_count": 52,
      "outputs": [
        {
          "output_type": "execute_result",
          "data": {
            "text/plain": [
              "array([1, 2, 3, 4, 5, 6])"
            ]
          },
          "metadata": {
            "tags": []
          },
          "execution_count": 52
        }
      ]
    },
    {
      "cell_type": "code",
      "metadata": {
        "colab": {
          "base_uri": "https://localhost:8080/"
        },
        "id": "dIiy5ZD6Epum",
        "outputId": "fc274cc3-ee70-4c4e-f176-e89779140364"
      },
      "source": [
        "np.vstack((arr1, arr2))"
      ],
      "execution_count": 53,
      "outputs": [
        {
          "output_type": "execute_result",
          "data": {
            "text/plain": [
              "array([[1, 2, 3],\n",
              "       [4, 5, 6]])"
            ]
          },
          "metadata": {
            "tags": []
          },
          "execution_count": 53
        }
      ]
    },
    {
      "cell_type": "code",
      "metadata": {
        "colab": {
          "base_uri": "https://localhost:8080/"
        },
        "id": "fkPwa95BEu1k",
        "outputId": "e7a71868-14a9-457d-9446-94c64786739c"
      },
      "source": [
        "np.dstack((arr1, arr2))"
      ],
      "execution_count": 54,
      "outputs": [
        {
          "output_type": "execute_result",
          "data": {
            "text/plain": [
              "array([[[1, 4],\n",
              "        [2, 5],\n",
              "        [3, 6]]])"
            ]
          },
          "metadata": {
            "tags": []
          },
          "execution_count": 54
        }
      ]
    },
    {
      "cell_type": "markdown",
      "metadata": {
        "id": "tHezjT2TFRMr"
      },
      "source": [
        "# Splitting Arrays"
      ]
    },
    {
      "cell_type": "code",
      "metadata": {
        "id": "7H320ck_ExiM"
      },
      "source": [
        "arr = np.array([1, 2, 3, 4, 5, 6])"
      ],
      "execution_count": 55,
      "outputs": []
    },
    {
      "cell_type": "code",
      "metadata": {
        "colab": {
          "base_uri": "https://localhost:8080/"
        },
        "id": "EFKA7FcHFZ31",
        "outputId": "c6db6e24-47a0-4d39-a880-ee1e7bff7d1e"
      },
      "source": [
        " # Split array into 3 using array_split\r\n",
        " np.array_split(arr, 3)"
      ],
      "execution_count": 56,
      "outputs": [
        {
          "output_type": "execute_result",
          "data": {
            "text/plain": [
              "[array([1, 2]), array([3, 4]), array([5, 6])]"
            ]
          },
          "metadata": {
            "tags": []
          },
          "execution_count": 56
        }
      ]
    },
    {
      "cell_type": "code",
      "metadata": {
        "colab": {
          "base_uri": "https://localhost:8080/"
        },
        "id": "KFrOu4klFsEa",
        "outputId": "5bc8a1c5-355e-4731-eb7f-80548dae6643"
      },
      "source": [
        " # Split array into 3 using split\r\n",
        " # Split Function will not work when elements are less\r\n",
        " np.split(arr, 3)"
      ],
      "execution_count": 57,
      "outputs": [
        {
          "output_type": "execute_result",
          "data": {
            "text/plain": [
              "[array([1, 2]), array([3, 4]), array([5, 6])]"
            ]
          },
          "metadata": {
            "tags": []
          },
          "execution_count": 57
        }
      ]
    },
    {
      "cell_type": "code",
      "metadata": {
        "colab": {
          "base_uri": "https://localhost:8080/"
        },
        "id": "0xSejBjBFgNu",
        "outputId": "fc178101-5c68-4ab1-d0cb-0fdb6d608138"
      },
      "source": [
        "# Split array into 4\r\n",
        "np.array_split(arr, 4)"
      ],
      "execution_count": 58,
      "outputs": [
        {
          "output_type": "execute_result",
          "data": {
            "text/plain": [
              "[array([1, 2]), array([3, 4]), array([5]), array([6])]"
            ]
          },
          "metadata": {
            "tags": []
          },
          "execution_count": 58
        }
      ]
    },
    {
      "cell_type": "markdown",
      "metadata": {
        "id": "0RfY8LijGoZU"
      },
      "source": [
        "# Numpy Random"
      ]
    },
    {
      "cell_type": "code",
      "metadata": {
        "colab": {
          "base_uri": "https://localhost:8080/"
        },
        "id": "w04huAubGwrL",
        "outputId": "9b7d0c4a-2a38-4450-f8aa-61d4daaae197"
      },
      "source": [
        "# Generate random integer from 0 to 50\r\n",
        "a = random.randint(50)\r\n",
        "a"
      ],
      "execution_count": 59,
      "outputs": [
        {
          "output_type": "execute_result",
          "data": {
            "text/plain": [
              "24"
            ]
          },
          "metadata": {
            "tags": []
          },
          "execution_count": 59
        }
      ]
    },
    {
      "cell_type": "code",
      "metadata": {
        "colab": {
          "base_uri": "https://localhost:8080/"
        },
        "id": "UbsEAJ2jG9KX",
        "outputId": "9c439705-4c7a-4ae1-84bb-4714bc02b479"
      },
      "source": [
        "# Generate random float between 0 to 1\r\n",
        "b = random.rand()\r\n",
        "b"
      ],
      "execution_count": 60,
      "outputs": [
        {
          "output_type": "execute_result",
          "data": {
            "text/plain": [
              "0.956396315004317"
            ]
          },
          "metadata": {
            "tags": []
          },
          "execution_count": 60
        }
      ]
    },
    {
      "cell_type": "code",
      "metadata": {
        "colab": {
          "base_uri": "https://localhost:8080/"
        },
        "id": "sDv5wvgXHTg1",
        "outputId": "3daaf963-46b3-48f5-cf3b-23893a9b695a"
      },
      "source": [
        "# Generate array of 5 random integer from 0 to 50\r\n",
        "c = random.randint(50, size=(5))\r\n",
        "c"
      ],
      "execution_count": 61,
      "outputs": [
        {
          "output_type": "execute_result",
          "data": {
            "text/plain": [
              "array([18, 29,  5, 37,  3])"
            ]
          },
          "metadata": {
            "tags": []
          },
          "execution_count": 61
        }
      ]
    },
    {
      "cell_type": "code",
      "metadata": {
        "colab": {
          "base_uri": "https://localhost:8080/"
        },
        "id": "itfLH_03Hoeb",
        "outputId": "b429f036-a112-4f45-a553-9d876cd58fef"
      },
      "source": [
        "# Generate array of 3x5 random integer from 0 to 100\r\n",
        "d = random.randint(100, size=(3, 5))\r\n",
        "d"
      ],
      "execution_count": 62,
      "outputs": [
        {
          "output_type": "execute_result",
          "data": {
            "text/plain": [
              "array([[98, 88, 85, 71, 94],\n",
              "       [19, 60, 69,  5, 98],\n",
              "       [28, 33, 94, 23, 80]])"
            ]
          },
          "metadata": {
            "tags": []
          },
          "execution_count": 62
        }
      ]
    },
    {
      "cell_type": "code",
      "metadata": {
        "colab": {
          "base_uri": "https://localhost:8080/"
        },
        "id": "MlYGAdp9H1Od",
        "outputId": "8c8c4069-8136-41cd-9ee2-a945ac58934f"
      },
      "source": [
        "# Generate 5 random float between 0 to 1\r\n",
        "e = random.rand(5)\r\n",
        "e"
      ],
      "execution_count": 63,
      "outputs": [
        {
          "output_type": "execute_result",
          "data": {
            "text/plain": [
              "array([0.86880563, 0.58088638, 0.90926086, 0.05820007, 0.60292682])"
            ]
          },
          "metadata": {
            "tags": []
          },
          "execution_count": 63
        }
      ]
    },
    {
      "cell_type": "code",
      "metadata": {
        "colab": {
          "base_uri": "https://localhost:8080/"
        },
        "id": "kWLk9mgZIaWi",
        "outputId": "adb3fcaf-9723-40f1-9262-6494804747e7"
      },
      "source": [
        "# Select random value from an array of choice\r\n",
        "f = random.choice([3, 5, 7, 9])\r\n",
        "f"
      ],
      "execution_count": 64,
      "outputs": [
        {
          "output_type": "execute_result",
          "data": {
            "text/plain": [
              "3"
            ]
          },
          "metadata": {
            "tags": []
          },
          "execution_count": 64
        }
      ]
    },
    {
      "cell_type": "code",
      "metadata": {
        "colab": {
          "base_uri": "https://localhost:8080/"
        },
        "id": "vbChp0XGJq6M",
        "outputId": "415ed0f6-8f07-449f-afd8-c6539d78b6a8"
      },
      "source": [
        "# Generate 2d-array 3*5 of random numbers from a given array\r\n",
        "g = random.choice([3, 5, 7, 9], size=(3, 5))\r\n",
        "g"
      ],
      "execution_count": 65,
      "outputs": [
        {
          "output_type": "execute_result",
          "data": {
            "text/plain": [
              "array([[7, 9, 9, 3, 5],\n",
              "       [5, 3, 5, 5, 5],\n",
              "       [7, 9, 5, 7, 3]])"
            ]
          },
          "metadata": {
            "tags": []
          },
          "execution_count": 65
        }
      ]
    },
    {
      "cell_type": "code",
      "metadata": {
        "id": "2TwnXNKGKA5a"
      },
      "source": [
        ""
      ],
      "execution_count": 65,
      "outputs": []
    }
  ]
}