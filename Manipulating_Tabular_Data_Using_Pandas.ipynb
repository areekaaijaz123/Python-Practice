{
  "nbformat": 4,
  "nbformat_minor": 0,
  "metadata": {
    "colab": {
      "name": "Manipulating Tabular Data Using Pandas.ipynb",
      "provenance": []
    },
    "kernelspec": {
      "name": "python3",
      "display_name": "Python 3"
    }
  },
  "cells": [
    {
      "cell_type": "code",
      "metadata": {
        "id": "TMy7PFsPL6lh"
      },
      "source": [
        "import pandas as pd"
      ],
      "execution_count": 1,
      "outputs": []
    },
    {
      "cell_type": "markdown",
      "metadata": {
        "id": "_q6IbGH6NAY7"
      },
      "source": [
        "# Pandas Series"
      ]
    },
    {
      "cell_type": "markdown",
      "metadata": {
        "id": "TAmiwnRFMnXJ"
      },
      "source": [
        "### Creating a series using specified index"
      ]
    },
    {
      "cell_type": "code",
      "metadata": {
        "colab": {
          "base_uri": "https://localhost:8080/"
        },
        "id": "nh8nhYhYMlB_",
        "outputId": "3c192457-1798-4b07-9f72-5be2fde31947"
      },
      "source": [
        "series = pd.Series([1, 2, 3, 4, 5], index = ['a', 'b', 'c', 'd', 'e'])\r\n",
        "series"
      ],
      "execution_count": 2,
      "outputs": [
        {
          "output_type": "execute_result",
          "data": {
            "text/plain": [
              "a    1\n",
              "b    2\n",
              "c    3\n",
              "d    4\n",
              "e    5\n",
              "dtype: int64"
            ]
          },
          "metadata": {
            "tags": []
          },
          "execution_count": 2
        }
      ]
    },
    {
      "cell_type": "markdown",
      "metadata": {
        "id": "3-WQGD4HNDaS"
      },
      "source": [
        "### Accessing elements in a series"
      ]
    },
    {
      "cell_type": "code",
      "metadata": {
        "colab": {
          "base_uri": "https://localhost:8080/"
        },
        "id": "W8gN5HALM31s",
        "outputId": "cd39c013-fc4c-4d57-a392-34aebcdf7bef"
      },
      "source": [
        "# Accesing 2nd element of series\r\n",
        "series[2]"
      ],
      "execution_count": 4,
      "outputs": [
        {
          "output_type": "execute_result",
          "data": {
            "text/plain": [
              "3"
            ]
          },
          "metadata": {
            "tags": []
          },
          "execution_count": 4
        }
      ]
    },
    {
      "cell_type": "code",
      "metadata": {
        "colab": {
          "base_uri": "https://localhost:8080/"
        },
        "id": "NlLC-mkGNMP3",
        "outputId": "28a7f097-725b-484d-c28b-cac704f3ad4f"
      },
      "source": [
        "series.iloc[2]"
      ],
      "execution_count": 5,
      "outputs": [
        {
          "output_type": "execute_result",
          "data": {
            "text/plain": [
              "3"
            ]
          },
          "metadata": {
            "tags": []
          },
          "execution_count": 5
        }
      ]
    },
    {
      "cell_type": "code",
      "metadata": {
        "colab": {
          "base_uri": "https://localhost:8080/"
        },
        "id": "kh7zDHdqNWNz",
        "outputId": "7ea46fdf-67b6-43f0-bbdc-0f63e436eb86"
      },
      "source": [
        "# Accessing element using index\r\n",
        "series['d']"
      ],
      "execution_count": 7,
      "outputs": [
        {
          "output_type": "execute_result",
          "data": {
            "text/plain": [
              "4"
            ]
          },
          "metadata": {
            "tags": []
          },
          "execution_count": 7
        }
      ]
    },
    {
      "cell_type": "code",
      "metadata": {
        "colab": {
          "base_uri": "https://localhost:8080/"
        },
        "id": "fPUGprpCNh1p",
        "outputId": "fb2a9d94-c6a0-4a74-b920-9144f452504c"
      },
      "source": [
        "series.loc['d']"
      ],
      "execution_count": 9,
      "outputs": [
        {
          "output_type": "execute_result",
          "data": {
            "text/plain": [
              "4"
            ]
          },
          "metadata": {
            "tags": []
          },
          "execution_count": 9
        }
      ]
    },
    {
      "cell_type": "code",
      "metadata": {
        "colab": {
          "base_uri": "https://localhost:8080/"
        },
        "id": "8X12AHQCNyEr",
        "outputId": "607f81ed-56ce-444d-a41c-90e848b492e5"
      },
      "source": [
        "# Slicing a series\r\n",
        "series[2:]"
      ],
      "execution_count": 10,
      "outputs": [
        {
          "output_type": "execute_result",
          "data": {
            "text/plain": [
              "c    3\n",
              "d    4\n",
              "e    5\n",
              "dtype: int64"
            ]
          },
          "metadata": {
            "tags": []
          },
          "execution_count": 10
        }
      ]
    },
    {
      "cell_type": "code",
      "metadata": {
        "colab": {
          "base_uri": "https://localhost:8080/"
        },
        "id": "JrYtp_pwN900",
        "outputId": "3a692215-6eb0-480d-d7fe-948047fe2ea2"
      },
      "source": [
        "series.iloc[2:]"
      ],
      "execution_count": 11,
      "outputs": [
        {
          "output_type": "execute_result",
          "data": {
            "text/plain": [
              "c    3\n",
              "d    4\n",
              "e    5\n",
              "dtype: int64"
            ]
          },
          "metadata": {
            "tags": []
          },
          "execution_count": 11
        }
      ]
    },
    {
      "cell_type": "markdown",
      "metadata": {
        "id": "Gm9J065tOGzP"
      },
      "source": [
        "### Specifying a Datetime Range as the Index of a Series"
      ]
    },
    {
      "cell_type": "code",
      "metadata": {
        "colab": {
          "base_uri": "https://localhost:8080/"
        },
        "id": "2g6zsyQGOBaq",
        "outputId": "34824357-0dea-4daa-d507-98955b90dd5b"
      },
      "source": [
        "dates1 = pd.date_range('20190525', periods = 12)\r\n",
        "dates1"
      ],
      "execution_count": 12,
      "outputs": [
        {
          "output_type": "execute_result",
          "data": {
            "text/plain": [
              "DatetimeIndex(['2019-05-25', '2019-05-26', '2019-05-27', '2019-05-28',\n",
              "               '2019-05-29', '2019-05-30', '2019-05-31', '2019-06-01',\n",
              "               '2019-06-02', '2019-06-03', '2019-06-04', '2019-06-05'],\n",
              "              dtype='datetime64[ns]', freq='D')"
            ]
          },
          "metadata": {
            "tags": []
          },
          "execution_count": 12
        }
      ]
    },
    {
      "cell_type": "code",
      "metadata": {
        "colab": {
          "base_uri": "https://localhost:8080/"
        },
        "id": "cElK0BakOi96",
        "outputId": "f0d69417-d0c3-4b60-b3db-5d4521962f61"
      },
      "source": [
        "series = pd.Series([1, 2, 3, 4, 5, 6, 7, 8, 9, 10, 11, 12])\r\n",
        "series.index = dates1\r\n",
        "series"
      ],
      "execution_count": 13,
      "outputs": [
        {
          "output_type": "execute_result",
          "data": {
            "text/plain": [
              "2019-05-25     1\n",
              "2019-05-26     2\n",
              "2019-05-27     3\n",
              "2019-05-28     4\n",
              "2019-05-29     5\n",
              "2019-05-30     6\n",
              "2019-05-31     7\n",
              "2019-06-01     8\n",
              "2019-06-02     9\n",
              "2019-06-03    10\n",
              "2019-06-04    11\n",
              "2019-06-05    12\n",
              "Freq: D, dtype: int64"
            ]
          },
          "metadata": {
            "tags": []
          },
          "execution_count": 13
        }
      ]
    },
    {
      "cell_type": "markdown",
      "metadata": {
        "id": "iAA8MyPUO7Lj"
      },
      "source": [
        "### Date Ranges"
      ]
    },
    {
      "cell_type": "code",
      "metadata": {
        "colab": {
          "base_uri": "https://localhost:8080/"
        },
        "id": "v69p_nQQO0Eu",
        "outputId": "4532aa3b-5cd5-43e8-d5ef-8379033437e5"
      },
      "source": [
        "# Freq = 'M for monthly date\r\n",
        "dates2 = pd.date_range('2019-05-25', periods = 12, freq='M')\r\n",
        "dates2"
      ],
      "execution_count": 14,
      "outputs": [
        {
          "output_type": "execute_result",
          "data": {
            "text/plain": [
              "DatetimeIndex(['2019-05-31', '2019-06-30', '2019-07-31', '2019-08-31',\n",
              "               '2019-09-30', '2019-10-31', '2019-11-30', '2019-12-31',\n",
              "               '2020-01-31', '2020-02-29', '2020-03-31', '2020-04-30'],\n",
              "              dtype='datetime64[ns]', freq='M')"
            ]
          },
          "metadata": {
            "tags": []
          },
          "execution_count": 14
        }
      ]
    },
    {
      "cell_type": "code",
      "metadata": {
        "colab": {
          "base_uri": "https://localhost:8080/"
        },
        "id": "D3D3-1X3Pe6r",
        "outputId": "6b5a9a3b-331b-439b-ede2-eb512ff1bade"
      },
      "source": [
        "dates3 = pd.date_range('2019/05/17 09:00:00', periods=8, freq='H')\r\n",
        "dates3"
      ],
      "execution_count": 15,
      "outputs": [
        {
          "output_type": "execute_result",
          "data": {
            "text/plain": [
              "DatetimeIndex(['2019-05-17 09:00:00', '2019-05-17 10:00:00',\n",
              "               '2019-05-17 11:00:00', '2019-05-17 12:00:00',\n",
              "               '2019-05-17 13:00:00', '2019-05-17 14:00:00',\n",
              "               '2019-05-17 15:00:00', '2019-05-17 16:00:00'],\n",
              "              dtype='datetime64[ns]', freq='H')"
            ]
          },
          "metadata": {
            "tags": []
          },
          "execution_count": 15
        }
      ]
    },
    {
      "cell_type": "markdown",
      "metadata": {
        "id": "HLAqJw_lP8lU"
      },
      "source": [
        "# Pandas DataFrame"
      ]
    },
    {
      "cell_type": "code",
      "metadata": {
        "id": "JIjlgGZ8P0jv"
      },
      "source": [
        "import numpy as np"
      ],
      "execution_count": 16,
      "outputs": []
    },
    {
      "cell_type": "markdown",
      "metadata": {
        "id": "tpySdK02Qi_D"
      },
      "source": [
        "### Creating a DataFrame"
      ]
    },
    {
      "cell_type": "code",
      "metadata": {
        "colab": {
          "base_uri": "https://localhost:8080/",
          "height": 359
        },
        "id": "D5Ref75VQJ4e",
        "outputId": "e9d4acc2-7cfd-4908-ddf5-a7de616a9ade"
      },
      "source": [
        "df1 = pd.DataFrame(np.random.randn(10, 4),\r\n",
        "                   columns = list('ABCD'))\r\n",
        "df1"
      ],
      "execution_count": 17,
      "outputs": [
        {
          "output_type": "execute_result",
          "data": {
            "text/html": [
              "<div>\n",
              "<style scoped>\n",
              "    .dataframe tbody tr th:only-of-type {\n",
              "        vertical-align: middle;\n",
              "    }\n",
              "\n",
              "    .dataframe tbody tr th {\n",
              "        vertical-align: top;\n",
              "    }\n",
              "\n",
              "    .dataframe thead th {\n",
              "        text-align: right;\n",
              "    }\n",
              "</style>\n",
              "<table border=\"1\" class=\"dataframe\">\n",
              "  <thead>\n",
              "    <tr style=\"text-align: right;\">\n",
              "      <th></th>\n",
              "      <th>A</th>\n",
              "      <th>B</th>\n",
              "      <th>C</th>\n",
              "      <th>D</th>\n",
              "    </tr>\n",
              "  </thead>\n",
              "  <tbody>\n",
              "    <tr>\n",
              "      <th>0</th>\n",
              "      <td>1.658910</td>\n",
              "      <td>0.036481</td>\n",
              "      <td>-0.930187</td>\n",
              "      <td>-0.794702</td>\n",
              "    </tr>\n",
              "    <tr>\n",
              "      <th>1</th>\n",
              "      <td>1.518128</td>\n",
              "      <td>1.145521</td>\n",
              "      <td>-1.137798</td>\n",
              "      <td>0.012993</td>\n",
              "    </tr>\n",
              "    <tr>\n",
              "      <th>2</th>\n",
              "      <td>0.498187</td>\n",
              "      <td>1.451600</td>\n",
              "      <td>-0.240187</td>\n",
              "      <td>0.620057</td>\n",
              "    </tr>\n",
              "    <tr>\n",
              "      <th>3</th>\n",
              "      <td>-0.237613</td>\n",
              "      <td>1.317595</td>\n",
              "      <td>0.501615</td>\n",
              "      <td>-0.951008</td>\n",
              "    </tr>\n",
              "    <tr>\n",
              "      <th>4</th>\n",
              "      <td>0.461311</td>\n",
              "      <td>-1.593641</td>\n",
              "      <td>1.186713</td>\n",
              "      <td>-0.082356</td>\n",
              "    </tr>\n",
              "    <tr>\n",
              "      <th>5</th>\n",
              "      <td>-1.964640</td>\n",
              "      <td>1.424528</td>\n",
              "      <td>0.099544</td>\n",
              "      <td>-0.734051</td>\n",
              "    </tr>\n",
              "    <tr>\n",
              "      <th>6</th>\n",
              "      <td>0.014040</td>\n",
              "      <td>-0.302484</td>\n",
              "      <td>0.881812</td>\n",
              "      <td>0.273333</td>\n",
              "    </tr>\n",
              "    <tr>\n",
              "      <th>7</th>\n",
              "      <td>0.042931</td>\n",
              "      <td>-0.054210</td>\n",
              "      <td>-0.979875</td>\n",
              "      <td>-0.243054</td>\n",
              "    </tr>\n",
              "    <tr>\n",
              "      <th>8</th>\n",
              "      <td>-0.457548</td>\n",
              "      <td>-0.130179</td>\n",
              "      <td>-0.137647</td>\n",
              "      <td>-0.692998</td>\n",
              "    </tr>\n",
              "    <tr>\n",
              "      <th>9</th>\n",
              "      <td>0.237225</td>\n",
              "      <td>0.591064</td>\n",
              "      <td>-0.784836</td>\n",
              "      <td>-1.685372</td>\n",
              "    </tr>\n",
              "  </tbody>\n",
              "</table>\n",
              "</div>"
            ],
            "text/plain": [
              "          A         B         C         D\n",
              "0  1.658910  0.036481 -0.930187 -0.794702\n",
              "1  1.518128  1.145521 -1.137798  0.012993\n",
              "2  0.498187  1.451600 -0.240187  0.620057\n",
              "3 -0.237613  1.317595  0.501615 -0.951008\n",
              "4  0.461311 -1.593641  1.186713 -0.082356\n",
              "5 -1.964640  1.424528  0.099544 -0.734051\n",
              "6  0.014040 -0.302484  0.881812  0.273333\n",
              "7  0.042931 -0.054210 -0.979875 -0.243054\n",
              "8 -0.457548 -0.130179 -0.137647 -0.692998\n",
              "9  0.237225  0.591064 -0.784836 -1.685372"
            ]
          },
          "metadata": {
            "tags": []
          },
          "execution_count": 17
        }
      ]
    },
    {
      "cell_type": "markdown",
      "metadata": {
        "id": "1hP8WlRXQngJ"
      },
      "source": [
        "### Specifying the Index in a DataFrame"
      ]
    },
    {
      "cell_type": "code",
      "metadata": {
        "colab": {
          "base_uri": "https://localhost:8080/",
          "height": 359
        },
        "id": "I578Wf8rQV_j",
        "outputId": "7a6aca49-7743-46e1-e0c5-7d4b2e9a4d5d"
      },
      "source": [
        "days = pd.date_range('20190525', periods=10)\r\n",
        "df1.index = days\r\n",
        "df1"
      ],
      "execution_count": 18,
      "outputs": [
        {
          "output_type": "execute_result",
          "data": {
            "text/html": [
              "<div>\n",
              "<style scoped>\n",
              "    .dataframe tbody tr th:only-of-type {\n",
              "        vertical-align: middle;\n",
              "    }\n",
              "\n",
              "    .dataframe tbody tr th {\n",
              "        vertical-align: top;\n",
              "    }\n",
              "\n",
              "    .dataframe thead th {\n",
              "        text-align: right;\n",
              "    }\n",
              "</style>\n",
              "<table border=\"1\" class=\"dataframe\">\n",
              "  <thead>\n",
              "    <tr style=\"text-align: right;\">\n",
              "      <th></th>\n",
              "      <th>A</th>\n",
              "      <th>B</th>\n",
              "      <th>C</th>\n",
              "      <th>D</th>\n",
              "    </tr>\n",
              "  </thead>\n",
              "  <tbody>\n",
              "    <tr>\n",
              "      <th>2019-05-25</th>\n",
              "      <td>1.658910</td>\n",
              "      <td>0.036481</td>\n",
              "      <td>-0.930187</td>\n",
              "      <td>-0.794702</td>\n",
              "    </tr>\n",
              "    <tr>\n",
              "      <th>2019-05-26</th>\n",
              "      <td>1.518128</td>\n",
              "      <td>1.145521</td>\n",
              "      <td>-1.137798</td>\n",
              "      <td>0.012993</td>\n",
              "    </tr>\n",
              "    <tr>\n",
              "      <th>2019-05-27</th>\n",
              "      <td>0.498187</td>\n",
              "      <td>1.451600</td>\n",
              "      <td>-0.240187</td>\n",
              "      <td>0.620057</td>\n",
              "    </tr>\n",
              "    <tr>\n",
              "      <th>2019-05-28</th>\n",
              "      <td>-0.237613</td>\n",
              "      <td>1.317595</td>\n",
              "      <td>0.501615</td>\n",
              "      <td>-0.951008</td>\n",
              "    </tr>\n",
              "    <tr>\n",
              "      <th>2019-05-29</th>\n",
              "      <td>0.461311</td>\n",
              "      <td>-1.593641</td>\n",
              "      <td>1.186713</td>\n",
              "      <td>-0.082356</td>\n",
              "    </tr>\n",
              "    <tr>\n",
              "      <th>2019-05-30</th>\n",
              "      <td>-1.964640</td>\n",
              "      <td>1.424528</td>\n",
              "      <td>0.099544</td>\n",
              "      <td>-0.734051</td>\n",
              "    </tr>\n",
              "    <tr>\n",
              "      <th>2019-05-31</th>\n",
              "      <td>0.014040</td>\n",
              "      <td>-0.302484</td>\n",
              "      <td>0.881812</td>\n",
              "      <td>0.273333</td>\n",
              "    </tr>\n",
              "    <tr>\n",
              "      <th>2019-06-01</th>\n",
              "      <td>0.042931</td>\n",
              "      <td>-0.054210</td>\n",
              "      <td>-0.979875</td>\n",
              "      <td>-0.243054</td>\n",
              "    </tr>\n",
              "    <tr>\n",
              "      <th>2019-06-02</th>\n",
              "      <td>-0.457548</td>\n",
              "      <td>-0.130179</td>\n",
              "      <td>-0.137647</td>\n",
              "      <td>-0.692998</td>\n",
              "    </tr>\n",
              "    <tr>\n",
              "      <th>2019-06-03</th>\n",
              "      <td>0.237225</td>\n",
              "      <td>0.591064</td>\n",
              "      <td>-0.784836</td>\n",
              "      <td>-1.685372</td>\n",
              "    </tr>\n",
              "  </tbody>\n",
              "</table>\n",
              "</div>"
            ],
            "text/plain": [
              "                   A         B         C         D\n",
              "2019-05-25  1.658910  0.036481 -0.930187 -0.794702\n",
              "2019-05-26  1.518128  1.145521 -1.137798  0.012993\n",
              "2019-05-27  0.498187  1.451600 -0.240187  0.620057\n",
              "2019-05-28 -0.237613  1.317595  0.501615 -0.951008\n",
              "2019-05-29  0.461311 -1.593641  1.186713 -0.082356\n",
              "2019-05-30 -1.964640  1.424528  0.099544 -0.734051\n",
              "2019-05-31  0.014040 -0.302484  0.881812  0.273333\n",
              "2019-06-01  0.042931 -0.054210 -0.979875 -0.243054\n",
              "2019-06-02 -0.457548 -0.130179 -0.137647 -0.692998\n",
              "2019-06-03  0.237225  0.591064 -0.784836 -1.685372"
            ]
          },
          "metadata": {
            "tags": []
          },
          "execution_count": 18
        }
      ]
    },
    {
      "cell_type": "code",
      "metadata": {
        "colab": {
          "base_uri": "https://localhost:8080/"
        },
        "id": "MURWzJ-eQ-5Z",
        "outputId": "001c21be-46d9-4609-99e5-786b4619cbdc"
      },
      "source": [
        "# Accessing index of dataframe\r\n",
        "df1.index"
      ],
      "execution_count": 19,
      "outputs": [
        {
          "output_type": "execute_result",
          "data": {
            "text/plain": [
              "DatetimeIndex(['2019-05-25', '2019-05-26', '2019-05-27', '2019-05-28',\n",
              "               '2019-05-29', '2019-05-30', '2019-05-31', '2019-06-01',\n",
              "               '2019-06-02', '2019-06-03'],\n",
              "              dtype='datetime64[ns]', freq='D')"
            ]
          },
          "metadata": {
            "tags": []
          },
          "execution_count": 19
        }
      ]
    },
    {
      "cell_type": "code",
      "metadata": {
        "colab": {
          "base_uri": "https://localhost:8080/"
        },
        "id": "DLs3WNg6RJ9s",
        "outputId": "4d2943b0-eccc-4604-c23a-e9342b70e1bc"
      },
      "source": [
        "# Accessing values of dataframe\r\n",
        "df1.values"
      ],
      "execution_count": 20,
      "outputs": [
        {
          "output_type": "execute_result",
          "data": {
            "text/plain": [
              "array([[ 1.65891039,  0.03648109, -0.93018729, -0.79470238],\n",
              "       [ 1.51812786,  1.14552129, -1.1377979 ,  0.01299322],\n",
              "       [ 0.49818663,  1.45159954, -0.24018683,  0.62005706],\n",
              "       [-0.23761287,  1.31759451,  0.50161464, -0.95100819],\n",
              "       [ 0.46131107, -1.59364074,  1.1867134 , -0.08235619],\n",
              "       [-1.96463994,  1.42452814,  0.09954448, -0.73405079],\n",
              "       [ 0.01404033, -0.30248417,  0.88181181,  0.27333342],\n",
              "       [ 0.04293137, -0.05421045, -0.97987456, -0.24305423],\n",
              "       [-0.45754751, -0.13017948, -0.13764675, -0.69299754],\n",
              "       [ 0.23722532,  0.59106402, -0.78483609, -1.68537163]])"
            ]
          },
          "metadata": {
            "tags": []
          },
          "execution_count": 20
        }
      ]
    },
    {
      "cell_type": "markdown",
      "metadata": {
        "id": "_JnhXIyERU2s"
      },
      "source": [
        "### Generating descriptive statics on dataframe"
      ]
    },
    {
      "cell_type": "code",
      "metadata": {
        "colab": {
          "base_uri": "https://localhost:8080/",
          "height": 297
        },
        "id": "wS9782wAROkO",
        "outputId": "839564c0-78fc-4ef3-e55e-2d9af518eff7"
      },
      "source": [
        "df1.describe()"
      ],
      "execution_count": 22,
      "outputs": [
        {
          "output_type": "execute_result",
          "data": {
            "text/html": [
              "<div>\n",
              "<style scoped>\n",
              "    .dataframe tbody tr th:only-of-type {\n",
              "        vertical-align: middle;\n",
              "    }\n",
              "\n",
              "    .dataframe tbody tr th {\n",
              "        vertical-align: top;\n",
              "    }\n",
              "\n",
              "    .dataframe thead th {\n",
              "        text-align: right;\n",
              "    }\n",
              "</style>\n",
              "<table border=\"1\" class=\"dataframe\">\n",
              "  <thead>\n",
              "    <tr style=\"text-align: right;\">\n",
              "      <th></th>\n",
              "      <th>A</th>\n",
              "      <th>B</th>\n",
              "      <th>C</th>\n",
              "      <th>D</th>\n",
              "    </tr>\n",
              "  </thead>\n",
              "  <tbody>\n",
              "    <tr>\n",
              "      <th>count</th>\n",
              "      <td>10.000000</td>\n",
              "      <td>10.000000</td>\n",
              "      <td>10.000000</td>\n",
              "      <td>10.000000</td>\n",
              "    </tr>\n",
              "    <tr>\n",
              "      <th>mean</th>\n",
              "      <td>0.177093</td>\n",
              "      <td>0.388627</td>\n",
              "      <td>-0.154085</td>\n",
              "      <td>-0.427716</td>\n",
              "    </tr>\n",
              "    <tr>\n",
              "      <th>std</th>\n",
              "      <td>1.021329</td>\n",
              "      <td>0.981843</td>\n",
              "      <td>0.818031</td>\n",
              "      <td>0.674234</td>\n",
              "    </tr>\n",
              "    <tr>\n",
              "      <th>min</th>\n",
              "      <td>-1.964640</td>\n",
              "      <td>-1.593641</td>\n",
              "      <td>-1.137798</td>\n",
              "      <td>-1.685372</td>\n",
              "    </tr>\n",
              "    <tr>\n",
              "      <th>25%</th>\n",
              "      <td>-0.174700</td>\n",
              "      <td>-0.111187</td>\n",
              "      <td>-0.893849</td>\n",
              "      <td>-0.779539</td>\n",
              "    </tr>\n",
              "    <tr>\n",
              "      <th>50%</th>\n",
              "      <td>0.140078</td>\n",
              "      <td>0.313773</td>\n",
              "      <td>-0.188917</td>\n",
              "      <td>-0.468026</td>\n",
              "    </tr>\n",
              "    <tr>\n",
              "      <th>75%</th>\n",
              "      <td>0.488968</td>\n",
              "      <td>1.274576</td>\n",
              "      <td>0.401097</td>\n",
              "      <td>-0.010844</td>\n",
              "    </tr>\n",
              "    <tr>\n",
              "      <th>max</th>\n",
              "      <td>1.658910</td>\n",
              "      <td>1.451600</td>\n",
              "      <td>1.186713</td>\n",
              "      <td>0.620057</td>\n",
              "    </tr>\n",
              "  </tbody>\n",
              "</table>\n",
              "</div>"
            ],
            "text/plain": [
              "               A          B          C          D\n",
              "count  10.000000  10.000000  10.000000  10.000000\n",
              "mean    0.177093   0.388627  -0.154085  -0.427716\n",
              "std     1.021329   0.981843   0.818031   0.674234\n",
              "min    -1.964640  -1.593641  -1.137798  -1.685372\n",
              "25%    -0.174700  -0.111187  -0.893849  -0.779539\n",
              "50%     0.140078   0.313773  -0.188917  -0.468026\n",
              "75%     0.488968   1.274576   0.401097  -0.010844\n",
              "max     1.658910   1.451600   1.186713   0.620057"
            ]
          },
          "metadata": {
            "tags": []
          },
          "execution_count": 22
        }
      ]
    },
    {
      "cell_type": "code",
      "metadata": {
        "colab": {
          "base_uri": "https://localhost:8080/"
        },
        "id": "rSc8wL1cRbx6",
        "outputId": "c1f3ada0-bee2-4d87-e0ca-0f33762ab69b"
      },
      "source": [
        "df1.mean()"
      ],
      "execution_count": 23,
      "outputs": [
        {
          "output_type": "execute_result",
          "data": {
            "text/plain": [
              "A    0.177093\n",
              "B    0.388627\n",
              "C   -0.154085\n",
              "D   -0.427716\n",
              "dtype: float64"
            ]
          },
          "metadata": {
            "tags": []
          },
          "execution_count": 23
        }
      ]
    },
    {
      "cell_type": "code",
      "metadata": {
        "colab": {
          "base_uri": "https://localhost:8080/"
        },
        "id": "EnUR6QyfRrW6",
        "outputId": "0206c953-3348-4425-fadd-ca30b0efa14d"
      },
      "source": [
        "# Compute mean for each row\r\n",
        "df1.mean(1)"
      ],
      "execution_count": 26,
      "outputs": [
        {
          "output_type": "execute_result",
          "data": {
            "text/plain": [
              "2019-05-25   -0.007375\n",
              "2019-05-26    0.384711\n",
              "2019-05-27    0.582414\n",
              "2019-05-28    0.157647\n",
              "2019-05-29   -0.006993\n",
              "2019-05-30   -0.293655\n",
              "2019-05-31    0.216675\n",
              "2019-06-01   -0.308552\n",
              "2019-06-02   -0.354593\n",
              "2019-06-03   -0.410480\n",
              "Freq: D, dtype: float64"
            ]
          },
          "metadata": {
            "tags": []
          },
          "execution_count": 26
        }
      ]
    },
    {
      "cell_type": "code",
      "metadata": {
        "colab": {
          "base_uri": "https://localhost:8080/"
        },
        "id": "Bn3AMa2dRek-",
        "outputId": "f2341929-5645-4b4b-cff6-6477222d16ae"
      },
      "source": [
        "df1.min()"
      ],
      "execution_count": 27,
      "outputs": [
        {
          "output_type": "execute_result",
          "data": {
            "text/plain": [
              "A   -1.964640\n",
              "B   -1.593641\n",
              "C   -1.137798\n",
              "D   -1.685372\n",
              "dtype: float64"
            ]
          },
          "metadata": {
            "tags": []
          },
          "execution_count": 27
        }
      ]
    },
    {
      "cell_type": "markdown",
      "metadata": {
        "id": "-gGRIx13Tp_l"
      },
      "source": [
        "### Adding & Removing Rows & Columns in a DataFrame"
      ]
    },
    {
      "cell_type": "code",
      "metadata": {
        "colab": {
          "base_uri": "https://localhost:8080/",
          "height": 204
        },
        "id": "3gqNqxkWR5T8",
        "outputId": "097b3cd8-0a4d-41bf-d854-8bda6c8f886d"
      },
      "source": [
        "data = {'name': ['Sara', 'Ali', 'Fatima', 'Ahmed', 'Hamza'],\r\n",
        "        'year': [2012, 2012, 2013, 2014, 2014],\r\n",
        "        'reports': [6, 13, 14, 1, 7]}\r\n",
        "\r\n",
        "df2 = pd.DataFrame(data, index = ['Singapore', 'China', 'Japan', 'Sweden', 'Norway'])\r\n",
        "df2"
      ],
      "execution_count": 28,
      "outputs": [
        {
          "output_type": "execute_result",
          "data": {
            "text/html": [
              "<div>\n",
              "<style scoped>\n",
              "    .dataframe tbody tr th:only-of-type {\n",
              "        vertical-align: middle;\n",
              "    }\n",
              "\n",
              "    .dataframe tbody tr th {\n",
              "        vertical-align: top;\n",
              "    }\n",
              "\n",
              "    .dataframe thead th {\n",
              "        text-align: right;\n",
              "    }\n",
              "</style>\n",
              "<table border=\"1\" class=\"dataframe\">\n",
              "  <thead>\n",
              "    <tr style=\"text-align: right;\">\n",
              "      <th></th>\n",
              "      <th>name</th>\n",
              "      <th>year</th>\n",
              "      <th>reports</th>\n",
              "    </tr>\n",
              "  </thead>\n",
              "  <tbody>\n",
              "    <tr>\n",
              "      <th>Singapore</th>\n",
              "      <td>Sara</td>\n",
              "      <td>2012</td>\n",
              "      <td>6</td>\n",
              "    </tr>\n",
              "    <tr>\n",
              "      <th>China</th>\n",
              "      <td>Ali</td>\n",
              "      <td>2012</td>\n",
              "      <td>13</td>\n",
              "    </tr>\n",
              "    <tr>\n",
              "      <th>Japan</th>\n",
              "      <td>Fatima</td>\n",
              "      <td>2013</td>\n",
              "      <td>14</td>\n",
              "    </tr>\n",
              "    <tr>\n",
              "      <th>Sweden</th>\n",
              "      <td>Ahmed</td>\n",
              "      <td>2014</td>\n",
              "      <td>1</td>\n",
              "    </tr>\n",
              "    <tr>\n",
              "      <th>Norway</th>\n",
              "      <td>Hamza</td>\n",
              "      <td>2014</td>\n",
              "      <td>7</td>\n",
              "    </tr>\n",
              "  </tbody>\n",
              "</table>\n",
              "</div>"
            ],
            "text/plain": [
              "             name  year  reports\n",
              "Singapore    Sara  2012        6\n",
              "China         Ali  2012       13\n",
              "Japan      Fatima  2013       14\n",
              "Sweden      Ahmed  2014        1\n",
              "Norway      Hamza  2014        7"
            ]
          },
          "metadata": {
            "tags": []
          },
          "execution_count": 28
        }
      ]
    },
    {
      "cell_type": "code",
      "metadata": {
        "colab": {
          "base_uri": "https://localhost:8080/",
          "height": 204
        },
        "id": "c9viCfSmUfbZ",
        "outputId": "28e3217d-32ab-4b4b-8290-fcef284cc296"
      },
      "source": [
        "# Adding a column\r\n",
        "schools = np.array([\"Cambridge\", \"Oxford\", \"Oxford\", \"Cambridge\", \"Oxford\"])\r\n",
        "df2['schools'] = schools\r\n",
        "df2"
      ],
      "execution_count": 29,
      "outputs": [
        {
          "output_type": "execute_result",
          "data": {
            "text/html": [
              "<div>\n",
              "<style scoped>\n",
              "    .dataframe tbody tr th:only-of-type {\n",
              "        vertical-align: middle;\n",
              "    }\n",
              "\n",
              "    .dataframe tbody tr th {\n",
              "        vertical-align: top;\n",
              "    }\n",
              "\n",
              "    .dataframe thead th {\n",
              "        text-align: right;\n",
              "    }\n",
              "</style>\n",
              "<table border=\"1\" class=\"dataframe\">\n",
              "  <thead>\n",
              "    <tr style=\"text-align: right;\">\n",
              "      <th></th>\n",
              "      <th>name</th>\n",
              "      <th>year</th>\n",
              "      <th>reports</th>\n",
              "      <th>schools</th>\n",
              "    </tr>\n",
              "  </thead>\n",
              "  <tbody>\n",
              "    <tr>\n",
              "      <th>Singapore</th>\n",
              "      <td>Sara</td>\n",
              "      <td>2012</td>\n",
              "      <td>6</td>\n",
              "      <td>Cambridge</td>\n",
              "    </tr>\n",
              "    <tr>\n",
              "      <th>China</th>\n",
              "      <td>Ali</td>\n",
              "      <td>2012</td>\n",
              "      <td>13</td>\n",
              "      <td>Oxford</td>\n",
              "    </tr>\n",
              "    <tr>\n",
              "      <th>Japan</th>\n",
              "      <td>Fatima</td>\n",
              "      <td>2013</td>\n",
              "      <td>14</td>\n",
              "      <td>Oxford</td>\n",
              "    </tr>\n",
              "    <tr>\n",
              "      <th>Sweden</th>\n",
              "      <td>Ahmed</td>\n",
              "      <td>2014</td>\n",
              "      <td>1</td>\n",
              "      <td>Cambridge</td>\n",
              "    </tr>\n",
              "    <tr>\n",
              "      <th>Norway</th>\n",
              "      <td>Hamza</td>\n",
              "      <td>2014</td>\n",
              "      <td>7</td>\n",
              "      <td>Oxford</td>\n",
              "    </tr>\n",
              "  </tbody>\n",
              "</table>\n",
              "</div>"
            ],
            "text/plain": [
              "             name  year  reports    schools\n",
              "Singapore    Sara  2012        6  Cambridge\n",
              "China         Ali  2012       13     Oxford\n",
              "Japan      Fatima  2013       14     Oxford\n",
              "Sweden      Ahmed  2014        1  Cambridge\n",
              "Norway      Hamza  2014        7     Oxford"
            ]
          },
          "metadata": {
            "tags": []
          },
          "execution_count": 29
        }
      ]
    },
    {
      "cell_type": "code",
      "metadata": {
        "colab": {
          "base_uri": "https://localhost:8080/",
          "height": 173
        },
        "id": "2DXkVKzbU3Vm",
        "outputId": "35d6306d-8c5a-491d-a12f-4cdaaf201de0"
      },
      "source": [
        "# Removing a row (outplace dropping)\r\n",
        "df2.drop(['China'])"
      ],
      "execution_count": 32,
      "outputs": [
        {
          "output_type": "execute_result",
          "data": {
            "text/html": [
              "<div>\n",
              "<style scoped>\n",
              "    .dataframe tbody tr th:only-of-type {\n",
              "        vertical-align: middle;\n",
              "    }\n",
              "\n",
              "    .dataframe tbody tr th {\n",
              "        vertical-align: top;\n",
              "    }\n",
              "\n",
              "    .dataframe thead th {\n",
              "        text-align: right;\n",
              "    }\n",
              "</style>\n",
              "<table border=\"1\" class=\"dataframe\">\n",
              "  <thead>\n",
              "    <tr style=\"text-align: right;\">\n",
              "      <th></th>\n",
              "      <th>name</th>\n",
              "      <th>year</th>\n",
              "      <th>reports</th>\n",
              "      <th>schools</th>\n",
              "    </tr>\n",
              "  </thead>\n",
              "  <tbody>\n",
              "    <tr>\n",
              "      <th>Singapore</th>\n",
              "      <td>Sara</td>\n",
              "      <td>2012</td>\n",
              "      <td>6</td>\n",
              "      <td>Cambridge</td>\n",
              "    </tr>\n",
              "    <tr>\n",
              "      <th>Japan</th>\n",
              "      <td>Fatima</td>\n",
              "      <td>2013</td>\n",
              "      <td>14</td>\n",
              "      <td>Oxford</td>\n",
              "    </tr>\n",
              "    <tr>\n",
              "      <th>Sweden</th>\n",
              "      <td>Ahmed</td>\n",
              "      <td>2014</td>\n",
              "      <td>1</td>\n",
              "      <td>Cambridge</td>\n",
              "    </tr>\n",
              "    <tr>\n",
              "      <th>Norway</th>\n",
              "      <td>Hamza</td>\n",
              "      <td>2014</td>\n",
              "      <td>7</td>\n",
              "      <td>Oxford</td>\n",
              "    </tr>\n",
              "  </tbody>\n",
              "</table>\n",
              "</div>"
            ],
            "text/plain": [
              "             name  year  reports    schools\n",
              "Singapore    Sara  2012        6  Cambridge\n",
              "Japan      Fatima  2013       14     Oxford\n",
              "Sweden      Ahmed  2014        1  Cambridge\n",
              "Norway      Hamza  2014        7     Oxford"
            ]
          },
          "metadata": {
            "tags": []
          },
          "execution_count": 32
        }
      ]
    },
    {
      "cell_type": "code",
      "metadata": {
        "colab": {
          "base_uri": "https://localhost:8080/",
          "height": 173
        },
        "id": "mWrDK2OmVAdi",
        "outputId": "9e637299-abca-43c8-97e3-9c0ab4dd3687"
      },
      "source": [
        "# Drop row based on column value\r\n",
        "df2[df2.name != 'Sara']"
      ],
      "execution_count": 33,
      "outputs": [
        {
          "output_type": "execute_result",
          "data": {
            "text/html": [
              "<div>\n",
              "<style scoped>\n",
              "    .dataframe tbody tr th:only-of-type {\n",
              "        vertical-align: middle;\n",
              "    }\n",
              "\n",
              "    .dataframe tbody tr th {\n",
              "        vertical-align: top;\n",
              "    }\n",
              "\n",
              "    .dataframe thead th {\n",
              "        text-align: right;\n",
              "    }\n",
              "</style>\n",
              "<table border=\"1\" class=\"dataframe\">\n",
              "  <thead>\n",
              "    <tr style=\"text-align: right;\">\n",
              "      <th></th>\n",
              "      <th>name</th>\n",
              "      <th>year</th>\n",
              "      <th>reports</th>\n",
              "      <th>schools</th>\n",
              "    </tr>\n",
              "  </thead>\n",
              "  <tbody>\n",
              "    <tr>\n",
              "      <th>China</th>\n",
              "      <td>Ali</td>\n",
              "      <td>2012</td>\n",
              "      <td>13</td>\n",
              "      <td>Oxford</td>\n",
              "    </tr>\n",
              "    <tr>\n",
              "      <th>Japan</th>\n",
              "      <td>Fatima</td>\n",
              "      <td>2013</td>\n",
              "      <td>14</td>\n",
              "      <td>Oxford</td>\n",
              "    </tr>\n",
              "    <tr>\n",
              "      <th>Sweden</th>\n",
              "      <td>Ahmed</td>\n",
              "      <td>2014</td>\n",
              "      <td>1</td>\n",
              "      <td>Cambridge</td>\n",
              "    </tr>\n",
              "    <tr>\n",
              "      <th>Norway</th>\n",
              "      <td>Hamza</td>\n",
              "      <td>2014</td>\n",
              "      <td>7</td>\n",
              "      <td>Oxford</td>\n",
              "    </tr>\n",
              "  </tbody>\n",
              "</table>\n",
              "</div>"
            ],
            "text/plain": [
              "          name  year  reports    schools\n",
              "China      Ali  2012       13     Oxford\n",
              "Japan   Fatima  2013       14     Oxford\n",
              "Sweden   Ahmed  2014        1  Cambridge\n",
              "Norway   Hamza  2014        7     Oxford"
            ]
          },
          "metadata": {
            "tags": []
          },
          "execution_count": 33
        }
      ]
    },
    {
      "cell_type": "code",
      "metadata": {
        "colab": {
          "base_uri": "https://localhost:8080/",
          "height": 142
        },
        "id": "AmMGQzjhVUdP",
        "outputId": "bb87b3e1-c027-4199-9272-0d78e31e6b08"
      },
      "source": [
        "# Remove row based on row number\r\n",
        "df2.drop(df2.index[[1, 2]])"
      ],
      "execution_count": 36,
      "outputs": [
        {
          "output_type": "execute_result",
          "data": {
            "text/html": [
              "<div>\n",
              "<style scoped>\n",
              "    .dataframe tbody tr th:only-of-type {\n",
              "        vertical-align: middle;\n",
              "    }\n",
              "\n",
              "    .dataframe tbody tr th {\n",
              "        vertical-align: top;\n",
              "    }\n",
              "\n",
              "    .dataframe thead th {\n",
              "        text-align: right;\n",
              "    }\n",
              "</style>\n",
              "<table border=\"1\" class=\"dataframe\">\n",
              "  <thead>\n",
              "    <tr style=\"text-align: right;\">\n",
              "      <th></th>\n",
              "      <th>name</th>\n",
              "      <th>year</th>\n",
              "      <th>reports</th>\n",
              "      <th>schools</th>\n",
              "    </tr>\n",
              "  </thead>\n",
              "  <tbody>\n",
              "    <tr>\n",
              "      <th>Singapore</th>\n",
              "      <td>Sara</td>\n",
              "      <td>2012</td>\n",
              "      <td>6</td>\n",
              "      <td>Cambridge</td>\n",
              "    </tr>\n",
              "    <tr>\n",
              "      <th>Sweden</th>\n",
              "      <td>Ahmed</td>\n",
              "      <td>2014</td>\n",
              "      <td>1</td>\n",
              "      <td>Cambridge</td>\n",
              "    </tr>\n",
              "    <tr>\n",
              "      <th>Norway</th>\n",
              "      <td>Hamza</td>\n",
              "      <td>2014</td>\n",
              "      <td>7</td>\n",
              "      <td>Oxford</td>\n",
              "    </tr>\n",
              "  </tbody>\n",
              "</table>\n",
              "</div>"
            ],
            "text/plain": [
              "            name  year  reports    schools\n",
              "Singapore   Sara  2012        6  Cambridge\n",
              "Sweden     Ahmed  2014        1  Cambridge\n",
              "Norway     Hamza  2014        7     Oxford"
            ]
          },
          "metadata": {
            "tags": []
          },
          "execution_count": 36
        }
      ]
    },
    {
      "cell_type": "code",
      "metadata": {
        "colab": {
          "base_uri": "https://localhost:8080/",
          "height": 173
        },
        "id": "YYZ2HN8YViwI",
        "outputId": "082f451d-647d-4811-f954-772bed2c3db3"
      },
      "source": [
        "# Remove 2nd last row\r\n",
        "df2.drop(df2.index[-2])"
      ],
      "execution_count": 37,
      "outputs": [
        {
          "output_type": "execute_result",
          "data": {
            "text/html": [
              "<div>\n",
              "<style scoped>\n",
              "    .dataframe tbody tr th:only-of-type {\n",
              "        vertical-align: middle;\n",
              "    }\n",
              "\n",
              "    .dataframe tbody tr th {\n",
              "        vertical-align: top;\n",
              "    }\n",
              "\n",
              "    .dataframe thead th {\n",
              "        text-align: right;\n",
              "    }\n",
              "</style>\n",
              "<table border=\"1\" class=\"dataframe\">\n",
              "  <thead>\n",
              "    <tr style=\"text-align: right;\">\n",
              "      <th></th>\n",
              "      <th>name</th>\n",
              "      <th>year</th>\n",
              "      <th>reports</th>\n",
              "      <th>schools</th>\n",
              "    </tr>\n",
              "  </thead>\n",
              "  <tbody>\n",
              "    <tr>\n",
              "      <th>Singapore</th>\n",
              "      <td>Sara</td>\n",
              "      <td>2012</td>\n",
              "      <td>6</td>\n",
              "      <td>Cambridge</td>\n",
              "    </tr>\n",
              "    <tr>\n",
              "      <th>China</th>\n",
              "      <td>Ali</td>\n",
              "      <td>2012</td>\n",
              "      <td>13</td>\n",
              "      <td>Oxford</td>\n",
              "    </tr>\n",
              "    <tr>\n",
              "      <th>Japan</th>\n",
              "      <td>Fatima</td>\n",
              "      <td>2013</td>\n",
              "      <td>14</td>\n",
              "      <td>Oxford</td>\n",
              "    </tr>\n",
              "    <tr>\n",
              "      <th>Norway</th>\n",
              "      <td>Hamza</td>\n",
              "      <td>2014</td>\n",
              "      <td>7</td>\n",
              "      <td>Oxford</td>\n",
              "    </tr>\n",
              "  </tbody>\n",
              "</table>\n",
              "</div>"
            ],
            "text/plain": [
              "             name  year  reports    schools\n",
              "Singapore    Sara  2012        6  Cambridge\n",
              "China         Ali  2012       13     Oxford\n",
              "Japan      Fatima  2013       14     Oxford\n",
              "Norway      Hamza  2014        7     Oxford"
            ]
          },
          "metadata": {
            "tags": []
          },
          "execution_count": 37
        }
      ]
    },
    {
      "cell_type": "code",
      "metadata": {
        "colab": {
          "base_uri": "https://localhost:8080/",
          "height": 204
        },
        "id": "kPVIO4_0Vza9",
        "outputId": "6f017b3f-34d6-4837-9203-2e2e10c7e441"
      },
      "source": [
        "# Removing a column\r\n",
        "df2.drop('reports', axis=1)"
      ],
      "execution_count": 38,
      "outputs": [
        {
          "output_type": "execute_result",
          "data": {
            "text/html": [
              "<div>\n",
              "<style scoped>\n",
              "    .dataframe tbody tr th:only-of-type {\n",
              "        vertical-align: middle;\n",
              "    }\n",
              "\n",
              "    .dataframe tbody tr th {\n",
              "        vertical-align: top;\n",
              "    }\n",
              "\n",
              "    .dataframe thead th {\n",
              "        text-align: right;\n",
              "    }\n",
              "</style>\n",
              "<table border=\"1\" class=\"dataframe\">\n",
              "  <thead>\n",
              "    <tr style=\"text-align: right;\">\n",
              "      <th></th>\n",
              "      <th>name</th>\n",
              "      <th>year</th>\n",
              "      <th>schools</th>\n",
              "    </tr>\n",
              "  </thead>\n",
              "  <tbody>\n",
              "    <tr>\n",
              "      <th>Singapore</th>\n",
              "      <td>Sara</td>\n",
              "      <td>2012</td>\n",
              "      <td>Cambridge</td>\n",
              "    </tr>\n",
              "    <tr>\n",
              "      <th>China</th>\n",
              "      <td>Ali</td>\n",
              "      <td>2012</td>\n",
              "      <td>Oxford</td>\n",
              "    </tr>\n",
              "    <tr>\n",
              "      <th>Japan</th>\n",
              "      <td>Fatima</td>\n",
              "      <td>2013</td>\n",
              "      <td>Oxford</td>\n",
              "    </tr>\n",
              "    <tr>\n",
              "      <th>Sweden</th>\n",
              "      <td>Ahmed</td>\n",
              "      <td>2014</td>\n",
              "      <td>Cambridge</td>\n",
              "    </tr>\n",
              "    <tr>\n",
              "      <th>Norway</th>\n",
              "      <td>Hamza</td>\n",
              "      <td>2014</td>\n",
              "      <td>Oxford</td>\n",
              "    </tr>\n",
              "  </tbody>\n",
              "</table>\n",
              "</div>"
            ],
            "text/plain": [
              "             name  year    schools\n",
              "Singapore    Sara  2012  Cambridge\n",
              "China         Ali  2012     Oxford\n",
              "Japan      Fatima  2013     Oxford\n",
              "Sweden      Ahmed  2014  Cambridge\n",
              "Norway      Hamza  2014     Oxford"
            ]
          },
          "metadata": {
            "tags": []
          },
          "execution_count": 38
        }
      ]
    },
    {
      "cell_type": "code",
      "metadata": {
        "colab": {
          "base_uri": "https://localhost:8080/",
          "height": 297
        },
        "id": "YETHw3EXWG5G",
        "outputId": "27b3495e-fad8-4d2f-8af6-94479c35e456"
      },
      "source": [
        "df2.describe()"
      ],
      "execution_count": 39,
      "outputs": [
        {
          "output_type": "execute_result",
          "data": {
            "text/html": [
              "<div>\n",
              "<style scoped>\n",
              "    .dataframe tbody tr th:only-of-type {\n",
              "        vertical-align: middle;\n",
              "    }\n",
              "\n",
              "    .dataframe tbody tr th {\n",
              "        vertical-align: top;\n",
              "    }\n",
              "\n",
              "    .dataframe thead th {\n",
              "        text-align: right;\n",
              "    }\n",
              "</style>\n",
              "<table border=\"1\" class=\"dataframe\">\n",
              "  <thead>\n",
              "    <tr style=\"text-align: right;\">\n",
              "      <th></th>\n",
              "      <th>year</th>\n",
              "      <th>reports</th>\n",
              "    </tr>\n",
              "  </thead>\n",
              "  <tbody>\n",
              "    <tr>\n",
              "      <th>count</th>\n",
              "      <td>5.0</td>\n",
              "      <td>5.000000</td>\n",
              "    </tr>\n",
              "    <tr>\n",
              "      <th>mean</th>\n",
              "      <td>2013.0</td>\n",
              "      <td>8.200000</td>\n",
              "    </tr>\n",
              "    <tr>\n",
              "      <th>std</th>\n",
              "      <td>1.0</td>\n",
              "      <td>5.357238</td>\n",
              "    </tr>\n",
              "    <tr>\n",
              "      <th>min</th>\n",
              "      <td>2012.0</td>\n",
              "      <td>1.000000</td>\n",
              "    </tr>\n",
              "    <tr>\n",
              "      <th>25%</th>\n",
              "      <td>2012.0</td>\n",
              "      <td>6.000000</td>\n",
              "    </tr>\n",
              "    <tr>\n",
              "      <th>50%</th>\n",
              "      <td>2013.0</td>\n",
              "      <td>7.000000</td>\n",
              "    </tr>\n",
              "    <tr>\n",
              "      <th>75%</th>\n",
              "      <td>2014.0</td>\n",
              "      <td>13.000000</td>\n",
              "    </tr>\n",
              "    <tr>\n",
              "      <th>max</th>\n",
              "      <td>2014.0</td>\n",
              "      <td>14.000000</td>\n",
              "    </tr>\n",
              "  </tbody>\n",
              "</table>\n",
              "</div>"
            ],
            "text/plain": [
              "         year    reports\n",
              "count     5.0   5.000000\n",
              "mean   2013.0   8.200000\n",
              "std       1.0   5.357238\n",
              "min    2012.0   1.000000\n",
              "25%    2012.0   6.000000\n",
              "50%    2013.0   7.000000\n",
              "75%    2014.0  13.000000\n",
              "max    2014.0  14.000000"
            ]
          },
          "metadata": {
            "tags": []
          },
          "execution_count": 39
        }
      ]
    },
    {
      "cell_type": "code",
      "metadata": {
        "colab": {
          "base_uri": "https://localhost:8080/",
          "height": 173
        },
        "id": "9jswlR1lXDVO",
        "outputId": "0ec2e93a-4025-4f7c-fb45-86dc0e14587d"
      },
      "source": [
        "df2.describe(include=['object'])"
      ],
      "execution_count": 43,
      "outputs": [
        {
          "output_type": "execute_result",
          "data": {
            "text/html": [
              "<div>\n",
              "<style scoped>\n",
              "    .dataframe tbody tr th:only-of-type {\n",
              "        vertical-align: middle;\n",
              "    }\n",
              "\n",
              "    .dataframe tbody tr th {\n",
              "        vertical-align: top;\n",
              "    }\n",
              "\n",
              "    .dataframe thead th {\n",
              "        text-align: right;\n",
              "    }\n",
              "</style>\n",
              "<table border=\"1\" class=\"dataframe\">\n",
              "  <thead>\n",
              "    <tr style=\"text-align: right;\">\n",
              "      <th></th>\n",
              "      <th>name</th>\n",
              "      <th>schools</th>\n",
              "    </tr>\n",
              "  </thead>\n",
              "  <tbody>\n",
              "    <tr>\n",
              "      <th>count</th>\n",
              "      <td>5</td>\n",
              "      <td>5</td>\n",
              "    </tr>\n",
              "    <tr>\n",
              "      <th>unique</th>\n",
              "      <td>5</td>\n",
              "      <td>2</td>\n",
              "    </tr>\n",
              "    <tr>\n",
              "      <th>top</th>\n",
              "      <td>Fatima</td>\n",
              "      <td>Oxford</td>\n",
              "    </tr>\n",
              "    <tr>\n",
              "      <th>freq</th>\n",
              "      <td>1</td>\n",
              "      <td>3</td>\n",
              "    </tr>\n",
              "  </tbody>\n",
              "</table>\n",
              "</div>"
            ],
            "text/plain": [
              "          name schools\n",
              "count        5       5\n",
              "unique       5       2\n",
              "top     Fatima  Oxford\n",
              "freq         1       3"
            ]
          },
          "metadata": {
            "tags": []
          },
          "execution_count": 43
        }
      ]
    },
    {
      "cell_type": "code",
      "metadata": {
        "colab": {
          "base_uri": "https://localhost:8080/"
        },
        "id": "sb3_sMWuXJu7",
        "outputId": "448fb17a-7dec-4a2f-c6a6-e60aa26fc5c4"
      },
      "source": [
        "df2.info()"
      ],
      "execution_count": 44,
      "outputs": [
        {
          "output_type": "stream",
          "text": [
            "<class 'pandas.core.frame.DataFrame'>\n",
            "Index: 5 entries, Singapore to Norway\n",
            "Data columns (total 4 columns):\n",
            " #   Column   Non-Null Count  Dtype \n",
            "---  ------   --------------  ----- \n",
            " 0   name     5 non-null      object\n",
            " 1   year     5 non-null      int64 \n",
            " 2   reports  5 non-null      int64 \n",
            " 3   schools  5 non-null      object\n",
            "dtypes: int64(2), object(2)\n",
            "memory usage: 360.0+ bytes\n"
          ],
          "name": "stdout"
        }
      ]
    },
    {
      "cell_type": "code",
      "metadata": {
        "id": "J8H8DQpzXbD6"
      },
      "source": [
        ""
      ],
      "execution_count": null,
      "outputs": []
    }
  ]
}