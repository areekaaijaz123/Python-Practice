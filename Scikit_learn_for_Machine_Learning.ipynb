{
  "nbformat": 4,
  "nbformat_minor": 0,
  "metadata": {
    "colab": {
      "name": "Scikit-learn for Machine Learning.ipynb",
      "provenance": []
    },
    "kernelspec": {
      "name": "python3",
      "display_name": "Python 3"
    }
  },
  "cells": [
    {
      "cell_type": "code",
      "metadata": {
        "id": "omO4QeJw3BJt"
      },
      "source": [
        "import numpy as np\r\n",
        "import pandas as pd\r\n",
        "%matplotlib inline\r\n",
        "import matplotlib.pyplot as plt\r\n",
        "import seaborn as sns\r\n",
        "from sklearn import datasets"
      ],
      "execution_count": null,
      "outputs": []
    },
    {
      "cell_type": "markdown",
      "metadata": {
        "id": "36O5Am2X3fbN"
      },
      "source": [
        "# Sources for getting datasets\r\n",
        "\r\n",
        "1. Scikit-learn's buitltin dataset\r\n",
        "    http://scikit-learn.org/stable/datasets/index.html\r\n",
        "2. Kaggle Dataset\r\n",
        "    https://www.kaggle.com\r\n",
        "3. UCI (University of California) ML Repository\r\n",
        "    https://archive.ics.uci.edu/ml/datasets.html"
      ]
    },
    {
      "cell_type": "code",
      "metadata": {
        "id": "AN2rmsxt3da0"
      },
      "source": [
        "iris = datasets.load_iris()"
      ],
      "execution_count": null,
      "outputs": []
    },
    {
      "cell_type": "code",
      "metadata": {
        "colab": {
          "base_uri": "https://localhost:8080/"
        },
        "id": "RlMswlCn4Bvu",
        "outputId": "5e04edfd-19e8-471e-c82e-2ad92198ae8e"
      },
      "source": [
        "# iris.DESCR\r\n",
        "# iris.data\r\n",
        "iris.feature_names"
      ],
      "execution_count": null,
      "outputs": [
        {
          "output_type": "execute_result",
          "data": {
            "text/plain": [
              "['sepal length (cm)',\n",
              " 'sepal width (cm)',\n",
              " 'petal length (cm)',\n",
              " 'petal width (cm)']"
            ]
          },
          "metadata": {
            "tags": []
          },
          "execution_count": 10
        }
      ]
    },
    {
      "cell_type": "code",
      "metadata": {
        "colab": {
          "base_uri": "https://localhost:8080/"
        },
        "id": "s9Ylr11U4SK2",
        "outputId": "31862ba4-7c55-4c79-b96d-925d6941f9e7"
      },
      "source": [
        "iris.target"
      ],
      "execution_count": null,
      "outputs": [
        {
          "output_type": "execute_result",
          "data": {
            "text/plain": [
              "array([0, 0, 0, 0, 0, 0, 0, 0, 0, 0, 0, 0, 0, 0, 0, 0, 0, 0, 0, 0, 0, 0,\n",
              "       0, 0, 0, 0, 0, 0, 0, 0, 0, 0, 0, 0, 0, 0, 0, 0, 0, 0, 0, 0, 0, 0,\n",
              "       0, 0, 0, 0, 0, 0, 1, 1, 1, 1, 1, 1, 1, 1, 1, 1, 1, 1, 1, 1, 1, 1,\n",
              "       1, 1, 1, 1, 1, 1, 1, 1, 1, 1, 1, 1, 1, 1, 1, 1, 1, 1, 1, 1, 1, 1,\n",
              "       1, 1, 1, 1, 1, 1, 1, 1, 1, 1, 1, 1, 2, 2, 2, 2, 2, 2, 2, 2, 2, 2,\n",
              "       2, 2, 2, 2, 2, 2, 2, 2, 2, 2, 2, 2, 2, 2, 2, 2, 2, 2, 2, 2, 2, 2,\n",
              "       2, 2, 2, 2, 2, 2, 2, 2, 2, 2, 2, 2, 2, 2, 2, 2, 2, 2])"
            ]
          },
          "metadata": {
            "tags": []
          },
          "execution_count": 11
        }
      ]
    },
    {
      "cell_type": "code",
      "metadata": {
        "colab": {
          "base_uri": "https://localhost:8080/"
        },
        "id": "7L4D1AT14eTU",
        "outputId": "52e22491-0be6-46c5-b8a7-706359d83d10"
      },
      "source": [
        "iris.target_names"
      ],
      "execution_count": null,
      "outputs": [
        {
          "output_type": "execute_result",
          "data": {
            "text/plain": [
              "array(['setosa', 'versicolor', 'virginica'], dtype='<U10')"
            ]
          },
          "metadata": {
            "tags": []
          },
          "execution_count": 12
        }
      ]
    },
    {
      "cell_type": "code",
      "metadata": {
        "colab": {
          "base_uri": "https://localhost:8080/"
        },
        "id": "3mxgNmVe4g1E",
        "outputId": "998f4867-a5c5-4c0f-8422-a99a8e0150a5"
      },
      "source": [
        "df = pd.DataFrame(iris.data)\r\n",
        "df.info()"
      ],
      "execution_count": null,
      "outputs": [
        {
          "output_type": "stream",
          "text": [
            "<class 'pandas.core.frame.DataFrame'>\n",
            "RangeIndex: 150 entries, 0 to 149\n",
            "Data columns (total 4 columns):\n",
            " #   Column  Non-Null Count  Dtype  \n",
            "---  ------  --------------  -----  \n",
            " 0   0       150 non-null    float64\n",
            " 1   1       150 non-null    float64\n",
            " 2   2       150 non-null    float64\n",
            " 3   3       150 non-null    float64\n",
            "dtypes: float64(4)\n",
            "memory usage: 4.8 KB\n"
          ],
          "name": "stdout"
        }
      ]
    },
    {
      "cell_type": "code",
      "metadata": {
        "colab": {
          "base_uri": "https://localhost:8080/",
          "height": 204
        },
        "id": "e_axFg4Z4opM",
        "outputId": "c68588f5-7729-45a9-fe06-79af12135b7f"
      },
      "source": [
        "df.head()"
      ],
      "execution_count": null,
      "outputs": [
        {
          "output_type": "execute_result",
          "data": {
            "text/html": [
              "<div>\n",
              "<style scoped>\n",
              "    .dataframe tbody tr th:only-of-type {\n",
              "        vertical-align: middle;\n",
              "    }\n",
              "\n",
              "    .dataframe tbody tr th {\n",
              "        vertical-align: top;\n",
              "    }\n",
              "\n",
              "    .dataframe thead th {\n",
              "        text-align: right;\n",
              "    }\n",
              "</style>\n",
              "<table border=\"1\" class=\"dataframe\">\n",
              "  <thead>\n",
              "    <tr style=\"text-align: right;\">\n",
              "      <th></th>\n",
              "      <th>0</th>\n",
              "      <th>1</th>\n",
              "      <th>2</th>\n",
              "      <th>3</th>\n",
              "    </tr>\n",
              "  </thead>\n",
              "  <tbody>\n",
              "    <tr>\n",
              "      <th>0</th>\n",
              "      <td>5.1</td>\n",
              "      <td>3.5</td>\n",
              "      <td>1.4</td>\n",
              "      <td>0.2</td>\n",
              "    </tr>\n",
              "    <tr>\n",
              "      <th>1</th>\n",
              "      <td>4.9</td>\n",
              "      <td>3.0</td>\n",
              "      <td>1.4</td>\n",
              "      <td>0.2</td>\n",
              "    </tr>\n",
              "    <tr>\n",
              "      <th>2</th>\n",
              "      <td>4.7</td>\n",
              "      <td>3.2</td>\n",
              "      <td>1.3</td>\n",
              "      <td>0.2</td>\n",
              "    </tr>\n",
              "    <tr>\n",
              "      <th>3</th>\n",
              "      <td>4.6</td>\n",
              "      <td>3.1</td>\n",
              "      <td>1.5</td>\n",
              "      <td>0.2</td>\n",
              "    </tr>\n",
              "    <tr>\n",
              "      <th>4</th>\n",
              "      <td>5.0</td>\n",
              "      <td>3.6</td>\n",
              "      <td>1.4</td>\n",
              "      <td>0.2</td>\n",
              "    </tr>\n",
              "  </tbody>\n",
              "</table>\n",
              "</div>"
            ],
            "text/plain": [
              "     0    1    2    3\n",
              "0  5.1  3.5  1.4  0.2\n",
              "1  4.9  3.0  1.4  0.2\n",
              "2  4.7  3.2  1.3  0.2\n",
              "3  4.6  3.1  1.5  0.2\n",
              "4  5.0  3.6  1.4  0.2"
            ]
          },
          "metadata": {
            "tags": []
          },
          "execution_count": 15
        }
      ]
    },
    {
      "cell_type": "markdown",
      "metadata": {
        "id": "Xg2Fia-G5nVb"
      },
      "source": [
        "# Genrating your own dataset\r\n",
        "\r\n",
        "The **sklearn.datasets.sample_generator** module from scikit-learn library contains a number of function to generate different types of dataset for different types of Problem."
      ]
    },
    {
      "cell_type": "markdown",
      "metadata": {
        "id": "a730QvYg6CWV"
      },
      "source": [
        "## Linear Distributed Dataset"
      ]
    },
    {
      "cell_type": "code",
      "metadata": {
        "colab": {
          "base_uri": "https://localhost:8080/",
          "height": 282
        },
        "id": "5vj4ik8t4r4s",
        "outputId": "cc01acc4-ee53-4381-92a0-4e48e5488cde"
      },
      "source": [
        "from sklearn.datasets.samples_generator import make_regression\r\n",
        "\r\n",
        "x, y = make_regression(n_samples = 100, n_features = 1, noise = 5.4)\r\n",
        "plt.scatter(x, y)"
      ],
      "execution_count": null,
      "outputs": [
        {
          "output_type": "execute_result",
          "data": {
            "text/plain": [
              "<matplotlib.collections.PathCollection at 0x7f1104d555f8>"
            ]
          },
          "metadata": {
            "tags": []
          },
          "execution_count": 17
        },
        {
          "output_type": "display_data",
          "data": {
            "image/png": "[encoded data removed]",
            "text/plain": [
              "<Figure size 432x288 with 1 Axes>"
            ]
          },
          "metadata": {
            "tags": [],
            "needs_background": "light"
          }
        }
      ]
    },
    {
      "cell_type": "markdown",
      "metadata": {
        "id": "IZQi78Zz6iwn"
      },
      "source": [
        "## Clustered Dataset"
      ]
    },
    {
      "cell_type": "code",
      "metadata": {
        "colab": {
          "base_uri": "https://localhost:8080/",
          "height": 282
        },
        "id": "KZyRWZSs6g4d",
        "outputId": "9ac8fbe2-fb61-4385-dce5-ebcd7360716f"
      },
      "source": [
        "from sklearn.datasets import make_blobs\r\n",
        "\r\n",
        "x, y = make_blobs(500, centers=3)\r\n",
        "rgb = np.array(['r', 'g', 'b'])\r\n",
        "plt.scatter(x[:, 0], x[:, 1], color = rgb[y])"
      ],
      "execution_count": null,
      "outputs": [
        {
          "output_type": "execute_result",
          "data": {
            "text/plain": [
              "<matplotlib.collections.PathCollection at 0x7f1104660278>"
            ]
          },
          "metadata": {
            "tags": []
          },
          "execution_count": 18
        },
        {
          "output_type": "display_data",
          "data": {
            "image/png": "[encoded data removed]",
            "text/plain": [
              "<Figure size 432x288 with 1 Axes>"
            ]
          },
          "metadata": {
            "tags": [],
            "needs_background": "light"
          }
        }
      ]
    },
    {
      "cell_type": "markdown",
      "metadata": {
        "id": "a3_kcHGA7R1i"
      },
      "source": [
        "## Clustered Dataset Distribution in Circular Fashion"
      ]
    },
    {
      "cell_type": "code",
      "metadata": {
        "colab": {
          "base_uri": "https://localhost:8080/",
          "height": 282
        },
        "id": "Ze1fhedN7Kk1",
        "outputId": "ce49ae0a-779f-4a66-ef38-64652ad4e5cc"
      },
      "source": [
        "from sklearn.datasets import make_circles\r\n",
        "\r\n",
        "x, y = make_circles(100, noise=0.09)\r\n",
        "rgb = np.array(['r', 'g', 'b'])\r\n",
        "plt.scatter(x[:, 0], x[:, 1], color = rgb[y])"
      ],
      "execution_count": null,
      "outputs": [
        {
          "output_type": "execute_result",
          "data": {
            "text/plain": [
              "<matplotlib.collections.PathCollection at 0x7f1104ca9be0>"
            ]
          },
          "metadata": {
            "tags": []
          },
          "execution_count": 19
        },
        {
          "output_type": "display_data",
          "data": {
            "image/png": "[encoded data removed]",
            "text/plain": [
              "<Figure size 432x288 with 1 Axes>"
            ]
          },
          "metadata": {
            "tags": [],
            "needs_background": "light"
          }
        }
      ]
    },
    {
      "cell_type": "markdown",
      "metadata": {
        "id": "yQX84sJh7ptQ"
      },
      "source": [
        "# Getting Started with Scikit-Learn"
      ]
    },
    {
      "cell_type": "markdown",
      "metadata": {
        "id": "f-uiVIHc_E3V"
      },
      "source": [
        "## Create Dataset"
      ]
    },
    {
      "cell_type": "code",
      "metadata": {
        "colab": {
          "base_uri": "https://localhost:8080/",
          "height": 295
        },
        "id": "Osd5eK7N7jM2",
        "outputId": "11f2dd23-26cc-4f54-c575-4c4b1ece34a6"
      },
      "source": [
        "heights = [[1.6], [1.65], [1.7], [1.73], [1.8]]\r\n",
        "weights = [[60], [65], [72.3], [75], [80]]\r\n",
        "\r\n",
        "plt.title(\"Weights plotted against Heights\")\r\n",
        "plt.xlabel(\"Height in meters\")\r\n",
        "plt.ylabel(\"Weight in kilograms\")\r\n",
        "\r\n",
        "plt.plot(heights, weights, 'k.')\r\n",
        "\r\n",
        "plt.axis([1.5, 1.85, 50, 90])\r\n",
        "plt.grid(True)"
      ],
      "execution_count": null,
      "outputs": [
        {
          "output_type": "display_data",
          "data": {
            "image/png": "[encoded data removed]",
            "text/plain": [
              "<Figure size 432x288 with 1 Axes>"
            ]
          },
          "metadata": {
            "tags": [],
            "needs_background": "light"
          }
        }
      ]
    },
    {
      "cell_type": "markdown",
      "metadata": {
        "id": "-OccqOaL81YW"
      },
      "source": [
        "## Fitting model using Linear Regression"
      ]
    },
    {
      "cell_type": "code",
      "metadata": {
        "colab": {
          "base_uri": "https://localhost:8080/"
        },
        "id": "lSuiRgju8jz_",
        "outputId": "5784f739-9387-485b-ca0b-552abe6b85b4"
      },
      "source": [
        "from sklearn.linear_model import LinearRegression\r\n",
        "\r\n",
        "model = LinearRegression()\r\n",
        "model.fit(X = heights, y = weights)"
      ],
      "execution_count": null,
      "outputs": [
        {
          "output_type": "execute_result",
          "data": {
            "text/plain": [
              "LinearRegression(copy_X=True, fit_intercept=True, n_jobs=None, normalize=False)"
            ]
          },
          "metadata": {
            "tags": []
          },
          "execution_count": 24
        }
      ]
    },
    {
      "cell_type": "markdown",
      "metadata": {
        "id": "KjYoBzK19NUD"
      },
      "source": [
        "## Making Predictions"
      ]
    },
    {
      "cell_type": "code",
      "metadata": {
        "colab": {
          "base_uri": "https://localhost:8080/"
        },
        "id": "RjIORdZU9I2M",
        "outputId": "835ebf45-315b-4524-a4b7-7e6851c1c2b1"
      },
      "source": [
        "weight = model.predict([[1.75]])[0][0]\r\n",
        "round(weight, 2)"
      ],
      "execution_count": null,
      "outputs": [
        {
          "output_type": "execute_result",
          "data": {
            "text/plain": [
              "76.04"
            ]
          },
          "metadata": {
            "tags": []
          },
          "execution_count": 25
        }
      ]
    },
    {
      "cell_type": "markdown",
      "metadata": {
        "id": "8Wlu4cTK9mz_"
      },
      "source": [
        "## Plotting Linear Regression Line"
      ]
    },
    {
      "cell_type": "code",
      "metadata": {
        "colab": {
          "base_uri": "https://localhost:8080/",
          "height": 312
        },
        "id": "sSrmGRU79cOX",
        "outputId": "6e9a2733-2572-4e29-9b7e-68c842e95034"
      },
      "source": [
        "heights = [[1.6], [1.65], [1.7], [1.73], [1.8]]\r\n",
        "weights = [[60], [65], [72.3], [75], [80]]\r\n",
        "\r\n",
        "plt.title(\"Weights plotted against Heights\")\r\n",
        "plt.xlabel(\"Height in meters\")\r\n",
        "plt.ylabel(\"Weight in kilograms\")\r\n",
        "\r\n",
        "plt.plot(heights, weights, 'k.')\r\n",
        "\r\n",
        "plt.axis([1.5, 1.85, 50, 90])\r\n",
        "plt.grid(True)\r\n",
        "\r\n",
        "plt.plot(heights, model.predict(heights), color = 'r')"
      ],
      "execution_count": null,
      "outputs": [
        {
          "output_type": "execute_result",
          "data": {
            "text/plain": [
              "[<matplotlib.lines.Line2D at 0x7f1102762d68>]"
            ]
          },
          "metadata": {
            "tags": []
          },
          "execution_count": 26
        },
        {
          "output_type": "display_data",
          "data": {
            "image/png": "[encoded data removed]",
            "text/plain": [
              "<Figure size 432x288 with 1 Axes>"
            ]
          },
          "metadata": {
            "tags": [],
            "needs_background": "light"
          }
        }
      ]
    },
    {
      "cell_type": "markdown",
      "metadata": {
        "id": "c9PzvfP_99uC"
      },
      "source": [
        "## Getting gradient and intercept of Line"
      ]
    },
    {
      "cell_type": "code",
      "metadata": {
        "colab": {
          "base_uri": "https://localhost:8080/",
          "height": 312
        },
        "id": "j5lQSMR892Um",
        "outputId": "2e3d130a-bbc4-40ab-ca61-cd3e0fb35510"
      },
      "source": [
        "heights = [[1.6], [1.65], [1.7], [1.73], [1.8]]\r\n",
        "weights = [[60], [65], [72.3], [75], [80]]\r\n",
        "\r\n",
        "plt.title(\"Weights plotted against Heights\")\r\n",
        "plt.xlabel(\"Height in meters\")\r\n",
        "plt.ylabel(\"Weight in kilograms\")\r\n",
        "\r\n",
        "plt.plot(heights, weights, 'k.')\r\n",
        "\r\n",
        "plt.axis([0, 1.85, -200, 200])\r\n",
        "plt.grid(True)\r\n",
        "\r\n",
        "extreme_heights = [[0], [1.8]]\r\n",
        "plt.plot(extreme_heights, model.predict(extreme_heights), color = 'r')"
      ],
      "execution_count": null,
      "outputs": [
        {
          "output_type": "execute_result",
          "data": {
            "text/plain": [
              "[<matplotlib.lines.Line2D at 0x7f11026f3c50>]"
            ]
          },
          "metadata": {
            "tags": []
          },
          "execution_count": 27
        },
        {
          "output_type": "display_data",
          "data": {
            "image/png": "[encoded data removed]",
            "text/plain": [
              "<Figure size 432x288 with 1 Axes>"
            ]
          },
          "metadata": {
            "tags": [],
            "needs_background": "light"
          }
        }
      ]
    },
    {
      "cell_type": "code",
      "metadata": {
        "colab": {
          "base_uri": "https://localhost:8080/"
        },
        "id": "9_t1jBeH-Nf0",
        "outputId": "c66c3ae7-71e7-46c8-9abe-e047ff9d9c03"
      },
      "source": [
        "round(model.predict([[0]])[0][0], 2)"
      ],
      "execution_count": null,
      "outputs": [
        {
          "output_type": "execute_result",
          "data": {
            "text/plain": [
              "-104.75"
            ]
          },
          "metadata": {
            "tags": []
          },
          "execution_count": 29
        }
      ]
    },
    {
      "cell_type": "code",
      "metadata": {
        "colab": {
          "base_uri": "https://localhost:8080/"
        },
        "id": "uomRcac8-a6w",
        "outputId": "f520e77e-0267-4d3e-fe3e-ad5acc5cd1d8"
      },
      "source": [
        "round(model.intercept_[0], 2)"
      ],
      "execution_count": null,
      "outputs": [
        {
          "output_type": "execute_result",
          "data": {
            "text/plain": [
              "-104.75"
            ]
          },
          "metadata": {
            "tags": []
          },
          "execution_count": 30
        }
      ]
    },
    {
      "cell_type": "code",
      "metadata": {
        "colab": {
          "base_uri": "https://localhost:8080/"
        },
        "id": "uFWpc2aH-iv_",
        "outputId": "ecaf18df-8d57-41ca-b9cc-8a5328c259e7"
      },
      "source": [
        "round(model.coef_[0][0], 2)"
      ],
      "execution_count": null,
      "outputs": [
        {
          "output_type": "execute_result",
          "data": {
            "text/plain": [
              "103.31"
            ]
          },
          "metadata": {
            "tags": []
          },
          "execution_count": 31
        }
      ]
    },
    {
      "cell_type": "markdown",
      "metadata": {
        "id": "Qzd_K0GE-5ZJ"
      },
      "source": [
        "## Calculating Residual Sum of Squares"
      ]
    },
    {
      "cell_type": "code",
      "metadata": {
        "colab": {
          "base_uri": "https://localhost:8080/"
        },
        "id": "kvfixqZr-sLz",
        "outputId": "37686475-852e-4727-acdf-07a2d858786a"
      },
      "source": [
        "round(np.sum((weights - model.predict(heights)) ** 2), 2)"
      ],
      "execution_count": null,
      "outputs": [
        {
          "output_type": "execute_result",
          "data": {
            "text/plain": [
              "5.34"
            ]
          },
          "metadata": {
            "tags": []
          },
          "execution_count": 33
        }
      ]
    },
    {
      "cell_type": "markdown",
      "metadata": {
        "id": "XU16cWuZ_l0k"
      },
      "source": [
        "## Testing the model using Test dataset"
      ]
    },
    {
      "cell_type": "code",
      "metadata": {
        "colab": {
          "base_uri": "https://localhost:8080/"
        },
        "id": "m-z1dPO6_exh",
        "outputId": "3718b50b-3eff-4d74-bf7d-f5acf7509e50"
      },
      "source": [
        "heights_test = [[1.58], [1.62], [1.69], [1.76], [1.82]]\r\n",
        "weights_test = [[58], [63], [72], [73], [85]]\r\n",
        "\r\n",
        "# Total Sum of Squares (TSS)\r\n",
        "weights_test_mean = np.mean(np.ravel(weights_test))\r\n",
        "TSS = np.sum((np.ravel(weights_test) - weights_test_mean) ** 2)\r\n",
        "print(\"TSS : %.2f\" % TSS)\r\n",
        "\r\n",
        "RSS = np.sum((np.ravel(weights_test) - np.ravel(model.predict(heights_test))) ** 2)\r\n",
        "print(\"RSS : %.2f\" % RSS)\r\n",
        "\r\n",
        "R_squared = 1 - (RSS / TSS)\r\n",
        "print(\"R-squared : %.2f\" % R_squared)\r\n",
        "\r\n",
        "# Using buitin R-squared\r\n",
        "print(\"Builtin R-squared : %.4f\" % model.score(heights_test, weights_test))"
      ],
      "execution_count": null,
      "outputs": [
        {
          "output_type": "stream",
          "text": [
            "TSS : 430.80\n",
            "RSS : 24.62\n",
            "R-squared : 0.94\n",
            "Builtin R-squared : 0.9429\n"
          ],
          "name": "stdout"
        }
      ]
    },
    {
      "cell_type": "markdown",
      "metadata": {
        "id": "NVawHYu9Br3W"
      },
      "source": [
        "## Save Model\r\n",
        "\r\n",
        "There are two ways to save model\r\n",
        "1. Using standard **pickle** module in **Python**\r\n",
        "2. Using **joblib** module in **scikit-learn** "
      ]
    },
    {
      "cell_type": "code",
      "metadata": {
        "id": "IGcJ87IUBQ6Y"
      },
      "source": [
        "#import pickle\r\n",
        "\r\n",
        "# Save model to disk\r\n",
        "#filename = 'HeightAndWeightModel.sav'\r\n",
        "\r\n",
        "# Write ro file using write and binary mode\r\n",
        "#pickle.dump(model, open(filename, 'wb'))\r\n",
        "\r\n",
        "# Load the model from disk\r\n",
        "# loaded_model = pickle.load(open(filename, 'rb'))\r\n",
        "\r\n",
        "# result = loaded_model.score(heights_test, weights_test)"
      ],
      "execution_count": null,
      "outputs": []
    },
    {
      "cell_type": "code",
      "metadata": {
        "id": "vsyiSQ_JCgAl"
      },
      "source": [
        "# from sklearn.externals import joblib\r\n",
        "\r\n",
        "# Save model to disk\r\n",
        "#filename = 'HeightAndWeightModel.sav'\r\n",
        "\r\n",
        "#joblib.dump(model, filename)\r\n",
        "\r\n",
        "# Load the model from disk\r\n",
        "# loaded_model = joblib.load(filename)\r\n",
        "\r\n",
        "# result = loaded_model.score(heights_test, weights_test)"
      ],
      "execution_count": null,
      "outputs": []
    },
    {
      "cell_type": "markdown",
      "metadata": {
        "id": "YLfK-IuxEY0s"
      },
      "source": [
        "# Cleaning Data"
      ]
    },
    {
      "cell_type": "code",
      "metadata": {
        "id": "5KO1ztMkDNiW"
      },
      "source": [
        "# Check null values in dataframe\r\n",
        "# df.isnull.sum()\r\n",
        "\r\n",
        "# Replace all nans with avg of columns\r\n",
        "# df = df.fillna(df.mean())\r\n",
        "\r\n",
        "# Drop rows with na\r\n",
        "# df = df.dropna()\r\n",
        "\r\n",
        "# Reset index (serial. no#)\r\n",
        "# df = df.reset_index(drop = True)\r\n",
        "\r\n",
        "# Get all duplicate rows\r\n",
        "# df = df[df.duplicated(keep = False)]\r\n",
        "\r\n",
        "# Remove duplicate rows\r\n",
        "#df.drop_duplicates(keep = \"first\", inplace = True)\r\n",
        "\r\n",
        "# Drop duplicates for specific columns\r\n",
        "#df.drop_duplicates(subset = [col_m, col_m, ... , col_z], keep = \"last\", inplace = True)\r\n",
        "\r\n",
        "# Normalizing columns\r\n",
        "# from sklearn import preprocessing\r\n",
        "\r\n",
        "# x = df.values.astype(float)\r\n",
        "# min_max_scaler = preprocessing.MinMaxScaler()\r\n",
        "# x_scaled = min_max_scaler.fit_trasform(x)"
      ],
      "execution_count": 39,
      "outputs": []
    }
  ]
}